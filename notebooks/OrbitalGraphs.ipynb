{
 "cells": [
  {
   "cell_type": "markdown",
   "metadata": {},
   "source": [
    "# Demo for the OrbitalGraphs GAP package\n",
    "\n",
    "This attempts to draw orbital graphs for groups $G \\leq S_n$"
   ]
  },
  {
   "cell_type": "code",
   "execution_count": 2,
   "metadata": {},
   "outputs": [
    {
     "data": {
      "text/plain": [
       "true"
      ]
     },
     "execution_count": 1,
     "metadata": {
      "text/plain": ""
     },
     "output_type": "execute_result"
    },
    {
     "data": {
      "text/plain": [
       "true"
      ]
     },
     "execution_count": 2,
     "metadata": {
      "text/plain": ""
     },
     "output_type": "execute_result"
    }
   ],
   "source": [
    "LoadPackage(\"OrbitalGraphs\");\n",
    "LoadPackage(\"Francy\");"
   ]
  },
  {
   "cell_type": "code",
   "execution_count": 3,
   "metadata": {},
   "outputs": [
    {
     "data": {
      "text/plain": [
       "function( OG ) ... end"
      ]
     },
     "execution_count": 3,
     "metadata": {
      "text/plain": ""
     },
     "output_type": "execute_result"
    }
   ],
   "source": [
    "# Input: an orbital graph\n",
    "# Draws orbital graphs\n",
    "\n",
    "DrawOrbitalGraph := function(OG)\n",
    "    local canvas, fgraph, i, e, nodes, centernode;\n",
    "    \n",
    "    # todo: make it possible to put a caption here\n",
    "    canvas := Canvas(Concatenation(\"Orbital Graph of\", \"\"));\n",
    "    fgraph := Graph(GraphType.DIRECTED);\n",
    "    Add(canvas, fgraph);\n",
    "\n",
    "    centernode := Shape(ShapeType.CIRCLE, \"\");\n",
    "    Add(fgraph, centernode);\n",
    "    SetInvisible(centernode, true);\n",
    "    nodes := [];\n",
    "\n",
    "    for i in DigraphVertices(OG) do\n",
    "        nodes[i] := Shape(ShapeType.CIRCLE, String(i));;\n",
    "        Add(fgraph, nodes[i]);\n",
    "        e := Link(centernode, nodes[i]);\n",
    "        SetInvisible(e, true);\n",
    "        Add(fgraph, e);\n",
    "    od;\n",
    "    for i in [1..Length(nodes)-1] do\n",
    "        e := Link(nodes[i], nodes[i+1]);\n",
    "        SetInvisible(e, true);\n",
    "        Add(fgraph, e);\n",
    "    od;\n",
    "    e := Link(nodes[Length(nodes)], nodes[1]);\n",
    "    SetInvisible(e, true);\n",
    "    Add(fgraph, e);\n",
    "\n",
    "    for e in DigraphEdges(OG) do\n",
    "        Add(fgraph, Link(nodes[e[1]], nodes[e[2]]));\n",
    "    od;\n",
    "\n",
    "    return Draw(canvas);\n",
    "end;"
   ]
  },
  {
   "cell_type": "code",
   "execution_count": 5,
   "metadata": {},
   "outputs": [
    {
     "data": {
      "text/plain": [
       "Group([ (1,2,3,4,5,6,7,8), (2,8)(3,7)(4,6) ])"
      ]
     },
     "execution_count": 4,
     "metadata": {
      "text/plain": ""
     },
     "output_type": "execute_result"
    },
    {
     "data": {
      "text/plain": [
       "[ <digraph with 8 vertices, 16 edges>, <digraph with 8 vertices, 16 edges>, <digraph with 8 vertices, 16 edges>, <digraph with 8 vertices, 8 edges> ]"
      ]
     },
     "execution_count": 5,
     "metadata": {
      "text/plain": ""
     },
     "output_type": "execute_result"
    }
   ],
   "source": [
    "G := DihedralGroup(IsPermGroup, 16);\n",
    "ogs := OrbitalGraphs(G);"
   ]
  },
  {
   "cell_type": "code",
   "execution_count": 6,
   "metadata": {},
   "outputs": [
    {
     "data": {
      "application/vnd.francy+json": "{\"version\" : \"0.8.10\",\"mime\" : \"application\\/vnd.francy+json\",\"canvas\" : {\"width\" : 800,\"id\" : \"F1\",\"height\" : 600,\"title\" : \"Orbital Graph of\",\"graph\" : {\"type\" : \"directed\",\"id\" : \"F2\",\"simulation\" : true,\"collapsed\" : true,\"drag\" : false,\"showNeighbours\" : false,\"nodes\" : {\"F3\" : {\"x\" : 0,\"y\" : 0,\"type\" : \"circle\",\"id\" : \"F3\",\"size\" : 10,\"title\" : \"\",\"layer\" : 0,\"color\" : \"\",\"parent\" : \"\",\"menus\" : {},\"messages\" : {},\"callbacks\" : {}},\"F4\" : {\"x\" : 0,\"y\" : 0,\"type\" : \"circle\",\"id\" : \"F4\",\"size\" : 10,\"title\" : \"1\",\"layer\" : 0,\"color\" : \"\",\"parent\" : \"\",\"menus\" : {},\"messages\" : {},\"callbacks\" : {}},\"F6\" : {\"x\" : 0,\"y\" : 0,\"type\" : \"circle\",\"id\" : \"F6\",\"size\" : 10,\"title\" : \"2\",\"layer\" : 0,\"color\" : \"\",\"parent\" : \"\",\"menus\" : {},\"messages\" : {},\"callbacks\" : {}},\"F8\" : {\"x\" : 0,\"y\" : 0,\"type\" : \"circle\",\"id\" : \"F8\",\"size\" : 10,\"title\" : \"3\",\"layer\" : 0,\"color\" : \"\",\"parent\" : \"\",\"menus\" : {},\"messages\" : {},\"callbacks\" : {}},\"F10\" : {\"x\" : 0,\"y\" : 0,\"type\" : \"circle\",\"id\" : \"F10\",\"size\" : 10,\"title\" : \"4\",\"layer\" : 0,\"color\" : \"\",\"parent\" : \"\",\"menus\" : {},\"messages\" : {},\"callbacks\" : {}},\"F12\" : {\"x\" : 0,\"y\" : 0,\"type\" : \"circle\",\"id\" : \"F12\",\"size\" : 10,\"title\" : \"5\",\"layer\" : 0,\"color\" : \"\",\"parent\" : \"\",\"menus\" : {},\"messages\" : {},\"callbacks\" : {}},\"F14\" : {\"x\" : 0,\"y\" : 0,\"type\" : \"circle\",\"id\" : \"F14\",\"size\" : 10,\"title\" : \"6\",\"layer\" : 0,\"color\" : \"\",\"parent\" : \"\",\"menus\" : {},\"messages\" : {},\"callbacks\" : {}},\"F16\" : {\"x\" : 0,\"y\" : 0,\"type\" : \"circle\",\"id\" : \"F16\",\"size\" : 10,\"title\" : \"7\",\"layer\" : 0,\"color\" : \"\",\"parent\" : \"\",\"menus\" : {},\"messages\" : {},\"callbacks\" : {}},\"F18\" : {\"x\" : 0,\"y\" : 0,\"type\" : \"circle\",\"id\" : \"F18\",\"size\" : 10,\"title\" : \"8\",\"layer\" : 0,\"color\" : \"\",\"parent\" : \"\",\"menus\" : {},\"messages\" : {},\"callbacks\" : {}}},\"links\" : {\"F5\" : {\"id\" : \"F5\",\"source\" : \"F3\",\"length\" : 0,\"weight\" : 0,\"target\" : \"F4\",\"color\" : \"\",\"invisible\" : true},\"F7\" : {\"id\" : \"F7\",\"source\" : \"F3\",\"length\" : 0,\"weight\" : 0,\"target\" : \"F6\",\"color\" : \"\",\"invisible\" : true},\"F9\" : {\"id\" : \"F9\",\"source\" : \"F3\",\"length\" : 0,\"weight\" : 0,\"target\" : \"F8\",\"color\" : \"\",\"invisible\" : true},\"F11\" : {\"id\" : \"F11\",\"source\" : \"F3\",\"length\" : 0,\"weight\" : 0,\"target\" : \"F10\",\"color\" : \"\",\"invisible\" : true},\"F13\" : {\"id\" : \"F13\",\"source\" : \"F3\",\"length\" : 0,\"weight\" : 0,\"target\" : \"F12\",\"color\" : \"\",\"invisible\" : true},\"F15\" : {\"id\" : \"F15\",\"source\" : \"F3\",\"length\" : 0,\"weight\" : 0,\"target\" : \"F14\",\"color\" : \"\",\"invisible\" : true},\"F17\" : {\"id\" : \"F17\",\"source\" : \"F3\",\"length\" : 0,\"weight\" : 0,\"target\" : \"F16\",\"color\" : \"\",\"invisible\" : true},\"F19\" : {\"id\" : \"F19\",\"source\" : \"F3\",\"length\" : 0,\"weight\" : 0,\"target\" : \"F18\",\"color\" : \"\",\"invisible\" : true},\"F20\" : {\"id\" : \"F20\",\"source\" : \"F4\",\"length\" : 0,\"weight\" : 0,\"target\" : \"F6\",\"color\" : \"\",\"invisible\" : true},\"F21\" : {\"id\" : \"F21\",\"source\" : \"F6\",\"length\" : 0,\"weight\" : 0,\"target\" : \"F8\",\"color\" : \"\",\"invisible\" : true},\"F22\" : {\"id\" : \"F22\",\"source\" : \"F8\",\"length\" : 0,\"weight\" : 0,\"target\" : \"F10\",\"color\" : \"\",\"invisible\" : true},\"F23\" : {\"id\" : \"F23\",\"source\" : \"F10\",\"length\" : 0,\"weight\" : 0,\"target\" : \"F12\",\"color\" : \"\",\"invisible\" : true},\"F24\" : {\"id\" : \"F24\",\"source\" : \"F12\",\"length\" : 0,\"weight\" : 0,\"target\" : \"F14\",\"color\" : \"\",\"invisible\" : true},\"F25\" : {\"id\" : \"F25\",\"source\" : \"F14\",\"length\" : 0,\"weight\" : 0,\"target\" : \"F16\",\"color\" : \"\",\"invisible\" : true},\"F26\" : {\"id\" : \"F26\",\"source\" : \"F16\",\"length\" : 0,\"weight\" : 0,\"target\" : \"F18\",\"color\" : \"\",\"invisible\" : true},\"F27\" : {\"id\" : \"F27\",\"source\" : \"F18\",\"length\" : 0,\"weight\" : 0,\"target\" : \"F4\",\"color\" : \"\",\"invisible\" : true},\"F28\" : {\"id\" : \"F28\",\"source\" : \"F4\",\"length\" : 0,\"weight\" : 0,\"target\" : \"F6\",\"color\" : \"\",\"invisible\" : false},\"F29\" : {\"id\" : \"F29\",\"source\" : \"F4\",\"length\" : 0,\"weight\" : 0,\"target\" : \"F18\",\"color\" : \"\",\"invisible\" : false},\"F30\" : {\"id\" : \"F30\",\"source\" : \"F6\",\"length\" : 0,\"weight\" : 0,\"target\" : \"F8\",\"color\" : \"\",\"invisible\" : false},\"F31\" : {\"id\" : \"F31\",\"source\" : \"F6\",\"length\" : 0,\"weight\" : 0,\"target\" : \"F4\",\"color\" : \"\",\"invisible\" : false},\"F32\" : {\"id\" : \"F32\",\"source\" : \"F8\",\"length\" : 0,\"weight\" : 0,\"target\" : \"F10\",\"color\" : \"\",\"invisible\" : false},\"F33\" : {\"id\" : \"F33\",\"source\" : \"F8\",\"length\" : 0,\"weight\" : 0,\"target\" : \"F6\",\"color\" : \"\",\"invisible\" : false},\"F34\" : {\"id\" : \"F34\",\"source\" : \"F10\",\"length\" : 0,\"weight\" : 0,\"target\" : \"F12\",\"color\" : \"\",\"invisible\" : false},\"F35\" : {\"id\" : \"F35\",\"source\" : \"F10\",\"length\" : 0,\"weight\" : 0,\"target\" : \"F8\",\"color\" : \"\",\"invisible\" : false},\"F36\" : {\"id\" : \"F36\",\"source\" : \"F12\",\"length\" : 0,\"weight\" : 0,\"target\" : \"F14\",\"color\" : \"\",\"invisible\" : false},\"F37\" : {\"id\" : \"F37\",\"source\" : \"F12\",\"length\" : 0,\"weight\" : 0,\"target\" : \"F10\",\"color\" : \"\",\"invisible\" : false},\"F38\" : {\"id\" : \"F38\",\"source\" : \"F14\",\"length\" : 0,\"weight\" : 0,\"target\" : \"F12\",\"color\" : \"\",\"invisible\" : false},\"F39\" : {\"id\" : \"F39\",\"source\" : \"F14\",\"length\" : 0,\"weight\" : 0,\"target\" : \"F16\",\"color\" : \"\",\"invisible\" : false},\"F40\" : {\"id\" : \"F40\",\"source\" : \"F16\",\"length\" : 0,\"weight\" : 0,\"target\" : \"F14\",\"color\" : \"\",\"invisible\" : false},\"F41\" : {\"id\" : \"F41\",\"source\" : \"F16\",\"length\" : 0,\"weight\" : 0,\"target\" : \"F18\",\"color\" : \"\",\"invisible\" : false},\"F42\" : {\"id\" : \"F42\",\"source\" : \"F18\",\"length\" : 0,\"weight\" : 0,\"target\" : \"F16\",\"color\" : \"\",\"invisible\" : false},\"F43\" : {\"id\" : \"F43\",\"source\" : \"F18\",\"length\" : 0,\"weight\" : 0,\"target\" : \"F4\",\"color\" : \"\",\"invisible\" : false}}},\"zoomToFit\" : true,\"texTypesetting\" : false,\"menus\" : {},\"messages\" : {}}}"
     },
     "execution_count": 6,
     "metadata": {
      "application/vnd.francy+json": {}
     },
     "output_type": "execute_result"
    }
   ],
   "source": [
    "# This seems to work quite ok\n",
    "DrawOrbitalGraph(ogs[1]);"
   ]
  },
  {
   "cell_type": "code",
   "execution_count": 7,
   "metadata": {},
   "outputs": [
    {
     "data": {
      "application/vnd.francy+json": "{\"version\" : \"0.8.10\",\"mime\" : \"application\\/vnd.francy+json\",\"canvas\" : {\"width\" : 800,\"id\" : \"F44\",\"height\" : 600,\"title\" : \"Orbital Graph of\",\"graph\" : {\"type\" : \"directed\",\"id\" : \"F45\",\"simulation\" : true,\"collapsed\" : true,\"drag\" : false,\"showNeighbours\" : false,\"nodes\" : {\"F46\" : {\"x\" : 0,\"y\" : 0,\"type\" : \"circle\",\"id\" : \"F46\",\"size\" : 10,\"title\" : \"\",\"layer\" : 0,\"color\" : \"\",\"parent\" : \"\",\"menus\" : {},\"messages\" : {},\"callbacks\" : {}},\"F47\" : {\"x\" : 0,\"y\" : 0,\"type\" : \"circle\",\"id\" : \"F47\",\"size\" : 10,\"title\" : \"1\",\"layer\" : 0,\"color\" : \"\",\"parent\" : \"\",\"menus\" : {},\"messages\" : {},\"callbacks\" : {}},\"F49\" : {\"x\" : 0,\"y\" : 0,\"type\" : \"circle\",\"id\" : \"F49\",\"size\" : 10,\"title\" : \"2\",\"layer\" : 0,\"color\" : \"\",\"parent\" : \"\",\"menus\" : {},\"messages\" : {},\"callbacks\" : {}},\"F51\" : {\"x\" : 0,\"y\" : 0,\"type\" : \"circle\",\"id\" : \"F51\",\"size\" : 10,\"title\" : \"3\",\"layer\" : 0,\"color\" : \"\",\"parent\" : \"\",\"menus\" : {},\"messages\" : {},\"callbacks\" : {}},\"F53\" : {\"x\" : 0,\"y\" : 0,\"type\" : \"circle\",\"id\" : \"F53\",\"size\" : 10,\"title\" : \"4\",\"layer\" : 0,\"color\" : \"\",\"parent\" : \"\",\"menus\" : {},\"messages\" : {},\"callbacks\" : {}},\"F55\" : {\"x\" : 0,\"y\" : 0,\"type\" : \"circle\",\"id\" : \"F55\",\"size\" : 10,\"title\" : \"5\",\"layer\" : 0,\"color\" : \"\",\"parent\" : \"\",\"menus\" : {},\"messages\" : {},\"callbacks\" : {}},\"F57\" : {\"x\" : 0,\"y\" : 0,\"type\" : \"circle\",\"id\" : \"F57\",\"size\" : 10,\"title\" : \"6\",\"layer\" : 0,\"color\" : \"\",\"parent\" : \"\",\"menus\" : {},\"messages\" : {},\"callbacks\" : {}},\"F59\" : {\"x\" : 0,\"y\" : 0,\"type\" : \"circle\",\"id\" : \"F59\",\"size\" : 10,\"title\" : \"7\",\"layer\" : 0,\"color\" : \"\",\"parent\" : \"\",\"menus\" : {},\"messages\" : {},\"callbacks\" : {}},\"F61\" : {\"x\" : 0,\"y\" : 0,\"type\" : \"circle\",\"id\" : \"F61\",\"size\" : 10,\"title\" : \"8\",\"layer\" : 0,\"color\" : \"\",\"parent\" : \"\",\"menus\" : {},\"messages\" : {},\"callbacks\" : {}}},\"links\" : {\"F48\" : {\"id\" : \"F48\",\"source\" : \"F46\",\"length\" : 0,\"weight\" : 0,\"target\" : \"F47\",\"color\" : \"\",\"invisible\" : true},\"F50\" : {\"id\" : \"F50\",\"source\" : \"F46\",\"length\" : 0,\"weight\" : 0,\"target\" : \"F49\",\"color\" : \"\",\"invisible\" : true},\"F52\" : {\"id\" : \"F52\",\"source\" : \"F46\",\"length\" : 0,\"weight\" : 0,\"target\" : \"F51\",\"color\" : \"\",\"invisible\" : true},\"F54\" : {\"id\" : \"F54\",\"source\" : \"F46\",\"length\" : 0,\"weight\" : 0,\"target\" : \"F53\",\"color\" : \"\",\"invisible\" : true},\"F56\" : {\"id\" : \"F56\",\"source\" : \"F46\",\"length\" : 0,\"weight\" : 0,\"target\" : \"F55\",\"color\" : \"\",\"invisible\" : true},\"F58\" : {\"id\" : \"F58\",\"source\" : \"F46\",\"length\" : 0,\"weight\" : 0,\"target\" : \"F57\",\"color\" : \"\",\"invisible\" : true},\"F60\" : {\"id\" : \"F60\",\"source\" : \"F46\",\"length\" : 0,\"weight\" : 0,\"target\" : \"F59\",\"color\" : \"\",\"invisible\" : true},\"F62\" : {\"id\" : \"F62\",\"source\" : \"F46\",\"length\" : 0,\"weight\" : 0,\"target\" : \"F61\",\"color\" : \"\",\"invisible\" : true},\"F63\" : {\"id\" : \"F63\",\"source\" : \"F47\",\"length\" : 0,\"weight\" : 0,\"target\" : \"F49\",\"color\" : \"\",\"invisible\" : true},\"F64\" : {\"id\" : \"F64\",\"source\" : \"F49\",\"length\" : 0,\"weight\" : 0,\"target\" : \"F51\",\"color\" : \"\",\"invisible\" : true},\"F65\" : {\"id\" : \"F65\",\"source\" : \"F51\",\"length\" : 0,\"weight\" : 0,\"target\" : \"F53\",\"color\" : \"\",\"invisible\" : true},\"F66\" : {\"id\" : \"F66\",\"source\" : \"F53\",\"length\" : 0,\"weight\" : 0,\"target\" : \"F55\",\"color\" : \"\",\"invisible\" : true},\"F67\" : {\"id\" : \"F67\",\"source\" : \"F55\",\"length\" : 0,\"weight\" : 0,\"target\" : \"F57\",\"color\" : \"\",\"invisible\" : true},\"F68\" : {\"id\" : \"F68\",\"source\" : \"F57\",\"length\" : 0,\"weight\" : 0,\"target\" : \"F59\",\"color\" : \"\",\"invisible\" : true},\"F69\" : {\"id\" : \"F69\",\"source\" : \"F59\",\"length\" : 0,\"weight\" : 0,\"target\" : \"F61\",\"color\" : \"\",\"invisible\" : true},\"F70\" : {\"id\" : \"F70\",\"source\" : \"F61\",\"length\" : 0,\"weight\" : 0,\"target\" : \"F47\",\"color\" : \"\",\"invisible\" : true},\"F71\" : {\"id\" : \"F71\",\"source\" : \"F47\",\"length\" : 0,\"weight\" : 0,\"target\" : \"F51\",\"color\" : \"\",\"invisible\" : false},\"F72\" : {\"id\" : \"F72\",\"source\" : \"F47\",\"length\" : 0,\"weight\" : 0,\"target\" : \"F59\",\"color\" : \"\",\"invisible\" : false},\"F73\" : {\"id\" : \"F73\",\"source\" : \"F49\",\"length\" : 0,\"weight\" : 0,\"target\" : \"F53\",\"color\" : \"\",\"invisible\" : false},\"F74\" : {\"id\" : \"F74\",\"source\" : \"F49\",\"length\" : 0,\"weight\" : 0,\"target\" : \"F61\",\"color\" : \"\",\"invisible\" : false},\"F75\" : {\"id\" : \"F75\",\"source\" : \"F51\",\"length\" : 0,\"weight\" : 0,\"target\" : \"F55\",\"color\" : \"\",\"invisible\" : false},\"F76\" : {\"id\" : \"F76\",\"source\" : \"F51\",\"length\" : 0,\"weight\" : 0,\"target\" : \"F47\",\"color\" : \"\",\"invisible\" : false},\"F77\" : {\"id\" : \"F77\",\"source\" : \"F53\",\"length\" : 0,\"weight\" : 0,\"target\" : \"F57\",\"color\" : \"\",\"invisible\" : false},\"F78\" : {\"id\" : \"F78\",\"source\" : \"F53\",\"length\" : 0,\"weight\" : 0,\"target\" : \"F49\",\"color\" : \"\",\"invisible\" : false},\"F79\" : {\"id\" : \"F79\",\"source\" : \"F55\",\"length\" : 0,\"weight\" : 0,\"target\" : \"F59\",\"color\" : \"\",\"invisible\" : false},\"F80\" : {\"id\" : \"F80\",\"source\" : \"F55\",\"length\" : 0,\"weight\" : 0,\"target\" : \"F51\",\"color\" : \"\",\"invisible\" : false},\"F81\" : {\"id\" : \"F81\",\"source\" : \"F57\",\"length\" : 0,\"weight\" : 0,\"target\" : \"F53\",\"color\" : \"\",\"invisible\" : false},\"F82\" : {\"id\" : \"F82\",\"source\" : \"F57\",\"length\" : 0,\"weight\" : 0,\"target\" : \"F61\",\"color\" : \"\",\"invisible\" : false},\"F83\" : {\"id\" : \"F83\",\"source\" : \"F59\",\"length\" : 0,\"weight\" : 0,\"target\" : \"F55\",\"color\" : \"\",\"invisible\" : false},\"F84\" : {\"id\" : \"F84\",\"source\" : \"F59\",\"length\" : 0,\"weight\" : 0,\"target\" : \"F47\",\"color\" : \"\",\"invisible\" : false},\"F85\" : {\"id\" : \"F85\",\"source\" : \"F61\",\"length\" : 0,\"weight\" : 0,\"target\" : \"F57\",\"color\" : \"\",\"invisible\" : false},\"F86\" : {\"id\" : \"F86\",\"source\" : \"F61\",\"length\" : 0,\"weight\" : 0,\"target\" : \"F49\",\"color\" : \"\",\"invisible\" : false}}},\"zoomToFit\" : true,\"texTypesetting\" : false,\"menus\" : {},\"messages\" : {}}}"
     },
     "execution_count": 7,
     "metadata": {
      "application/vnd.francy+json": {}
     },
     "output_type": "execute_result"
    }
   ],
   "source": [
    "# This, not so much\n",
    "DrawOrbitalGraph(ogs[2]);"
   ]
  },
  {
   "cell_type": "code",
   "execution_count": 9,
   "metadata": {},
   "outputs": [
    {
     "data": {
      "text/plain": [
       "Group([ (1,2,3), (1,2), (4,5,6,7,8) ])"
      ]
     },
     "execution_count": 8,
     "metadata": {
      "text/plain": ""
     },
     "output_type": "execute_result"
    },
    {
     "data": {
      "text/plain": [
       "[ <digraph with 8 vertices, 6 edges>, <digraph with 8 vertices, 15 edges>, <digraph with 8 vertices, 15 edges>, <digraph with 8 vertices, 5 edges>, <digraph with 8 vertices, 5 edges>, <digraph with 8 vertices, 5 edges>, <digraph with 8 vertices, 5 edges> ]"
      ]
     },
     "execution_count": 9,
     "metadata": {
      "text/plain": ""
     },
     "output_type": "execute_result"
    }
   ],
   "source": [
    "G := DirectProduct(SymmetricGroup(3), CyclicGroup(IsPermGroup, 5));\n",
    "ogs := OrbitalGraphs(G);"
   ]
  },
  {
   "cell_type": "code",
   "execution_count": 10,
   "metadata": {},
   "outputs": [
    {
     "data": {
      "application/vnd.francy+json": "{\"version\" : \"0.8.10\",\"mime\" : \"application\\/vnd.francy+json\",\"canvas\" : {\"width\" : 800,\"id\" : \"F87\",\"height\" : 600,\"title\" : \"Orbital Graph of\",\"graph\" : {\"type\" : \"directed\",\"id\" : \"F88\",\"simulation\" : true,\"collapsed\" : true,\"drag\" : false,\"showNeighbours\" : false,\"nodes\" : {\"F89\" : {\"x\" : 0,\"y\" : 0,\"type\" : \"circle\",\"id\" : \"F89\",\"size\" : 10,\"title\" : \"\",\"layer\" : 0,\"color\" : \"\",\"parent\" : \"\",\"menus\" : {},\"messages\" : {},\"callbacks\" : {}},\"F90\" : {\"x\" : 0,\"y\" : 0,\"type\" : \"circle\",\"id\" : \"F90\",\"size\" : 10,\"title\" : \"1\",\"layer\" : 0,\"color\" : \"\",\"parent\" : \"\",\"menus\" : {},\"messages\" : {},\"callbacks\" : {}},\"F92\" : {\"x\" : 0,\"y\" : 0,\"type\" : \"circle\",\"id\" : \"F92\",\"size\" : 10,\"title\" : \"2\",\"layer\" : 0,\"color\" : \"\",\"parent\" : \"\",\"menus\" : {},\"messages\" : {},\"callbacks\" : {}},\"F94\" : {\"x\" : 0,\"y\" : 0,\"type\" : \"circle\",\"id\" : \"F94\",\"size\" : 10,\"title\" : \"3\",\"layer\" : 0,\"color\" : \"\",\"parent\" : \"\",\"menus\" : {},\"messages\" : {},\"callbacks\" : {}},\"F96\" : {\"x\" : 0,\"y\" : 0,\"type\" : \"circle\",\"id\" : \"F96\",\"size\" : 10,\"title\" : \"4\",\"layer\" : 0,\"color\" : \"\",\"parent\" : \"\",\"menus\" : {},\"messages\" : {},\"callbacks\" : {}},\"F98\" : {\"x\" : 0,\"y\" : 0,\"type\" : \"circle\",\"id\" : \"F98\",\"size\" : 10,\"title\" : \"5\",\"layer\" : 0,\"color\" : \"\",\"parent\" : \"\",\"menus\" : {},\"messages\" : {},\"callbacks\" : {}},\"F100\" : {\"x\" : 0,\"y\" : 0,\"type\" : \"circle\",\"id\" : \"F100\",\"size\" : 10,\"title\" : \"6\",\"layer\" : 0,\"color\" : \"\",\"parent\" : \"\",\"menus\" : {},\"messages\" : {},\"callbacks\" : {}},\"F102\" : {\"x\" : 0,\"y\" : 0,\"type\" : \"circle\",\"id\" : \"F102\",\"size\" : 10,\"title\" : \"7\",\"layer\" : 0,\"color\" : \"\",\"parent\" : \"\",\"menus\" : {},\"messages\" : {},\"callbacks\" : {}},\"F104\" : {\"x\" : 0,\"y\" : 0,\"type\" : \"circle\",\"id\" : \"F104\",\"size\" : 10,\"title\" : \"8\",\"layer\" : 0,\"color\" : \"\",\"parent\" : \"\",\"menus\" : {},\"messages\" : {},\"callbacks\" : {}}},\"links\" : {\"F91\" : {\"id\" : \"F91\",\"source\" : \"F89\",\"length\" : 0,\"weight\" : 0,\"target\" : \"F90\",\"color\" : \"\",\"invisible\" : true},\"F93\" : {\"id\" : \"F93\",\"source\" : \"F89\",\"length\" : 0,\"weight\" : 0,\"target\" : \"F92\",\"color\" : \"\",\"invisible\" : true},\"F95\" : {\"id\" : \"F95\",\"source\" : \"F89\",\"length\" : 0,\"weight\" : 0,\"target\" : \"F94\",\"color\" : \"\",\"invisible\" : true},\"F97\" : {\"id\" : \"F97\",\"source\" : \"F89\",\"length\" : 0,\"weight\" : 0,\"target\" : \"F96\",\"color\" : \"\",\"invisible\" : true},\"F99\" : {\"id\" : \"F99\",\"source\" : \"F89\",\"length\" : 0,\"weight\" : 0,\"target\" : \"F98\",\"color\" : \"\",\"invisible\" : true},\"F101\" : {\"id\" : \"F101\",\"source\" : \"F89\",\"length\" : 0,\"weight\" : 0,\"target\" : \"F100\",\"color\" : \"\",\"invisible\" : true},\"F103\" : {\"id\" : \"F103\",\"source\" : \"F89\",\"length\" : 0,\"weight\" : 0,\"target\" : \"F102\",\"color\" : \"\",\"invisible\" : true},\"F105\" : {\"id\" : \"F105\",\"source\" : \"F89\",\"length\" : 0,\"weight\" : 0,\"target\" : \"F104\",\"color\" : \"\",\"invisible\" : true},\"F106\" : {\"id\" : \"F106\",\"source\" : \"F90\",\"length\" : 0,\"weight\" : 0,\"target\" : \"F92\",\"color\" : \"\",\"invisible\" : true},\"F107\" : {\"id\" : \"F107\",\"source\" : \"F92\",\"length\" : 0,\"weight\" : 0,\"target\" : \"F94\",\"color\" : \"\",\"invisible\" : true},\"F108\" : {\"id\" : \"F108\",\"source\" : \"F94\",\"length\" : 0,\"weight\" : 0,\"target\" : \"F96\",\"color\" : \"\",\"invisible\" : true},\"F109\" : {\"id\" : \"F109\",\"source\" : \"F96\",\"length\" : 0,\"weight\" : 0,\"target\" : \"F98\",\"color\" : \"\",\"invisible\" : true},\"F110\" : {\"id\" : \"F110\",\"source\" : \"F98\",\"length\" : 0,\"weight\" : 0,\"target\" : \"F100\",\"color\" : \"\",\"invisible\" : true},\"F111\" : {\"id\" : \"F111\",\"source\" : \"F100\",\"length\" : 0,\"weight\" : 0,\"target\" : \"F102\",\"color\" : \"\",\"invisible\" : true},\"F112\" : {\"id\" : \"F112\",\"source\" : \"F102\",\"length\" : 0,\"weight\" : 0,\"target\" : \"F104\",\"color\" : \"\",\"invisible\" : true},\"F113\" : {\"id\" : \"F113\",\"source\" : \"F104\",\"length\" : 0,\"weight\" : 0,\"target\" : \"F90\",\"color\" : \"\",\"invisible\" : true},\"F114\" : {\"id\" : \"F114\",\"source\" : \"F90\",\"length\" : 0,\"weight\" : 0,\"target\" : \"F96\",\"color\" : \"\",\"invisible\" : false},\"F115\" : {\"id\" : \"F115\",\"source\" : \"F90\",\"length\" : 0,\"weight\" : 0,\"target\" : \"F98\",\"color\" : \"\",\"invisible\" : false},\"F116\" : {\"id\" : \"F116\",\"source\" : \"F90\",\"length\" : 0,\"weight\" : 0,\"target\" : \"F100\",\"color\" : \"\",\"invisible\" : false},\"F117\" : {\"id\" : \"F117\",\"source\" : \"F90\",\"length\" : 0,\"weight\" : 0,\"target\" : \"F102\",\"color\" : \"\",\"invisible\" : false},\"F118\" : {\"id\" : \"F118\",\"source\" : \"F90\",\"length\" : 0,\"weight\" : 0,\"target\" : \"F104\",\"color\" : \"\",\"invisible\" : false},\"F119\" : {\"id\" : \"F119\",\"source\" : \"F92\",\"length\" : 0,\"weight\" : 0,\"target\" : \"F96\",\"color\" : \"\",\"invisible\" : false},\"F120\" : {\"id\" : \"F120\",\"source\" : \"F92\",\"length\" : 0,\"weight\" : 0,\"target\" : \"F98\",\"color\" : \"\",\"invisible\" : false},\"F121\" : {\"id\" : \"F121\",\"source\" : \"F92\",\"length\" : 0,\"weight\" : 0,\"target\" : \"F100\",\"color\" : \"\",\"invisible\" : false},\"F122\" : {\"id\" : \"F122\",\"source\" : \"F92\",\"length\" : 0,\"weight\" : 0,\"target\" : \"F102\",\"color\" : \"\",\"invisible\" : false},\"F123\" : {\"id\" : \"F123\",\"source\" : \"F92\",\"length\" : 0,\"weight\" : 0,\"target\" : \"F104\",\"color\" : \"\",\"invisible\" : false},\"F124\" : {\"id\" : \"F124\",\"source\" : \"F94\",\"length\" : 0,\"weight\" : 0,\"target\" : \"F96\",\"color\" : \"\",\"invisible\" : false},\"F125\" : {\"id\" : \"F125\",\"source\" : \"F94\",\"length\" : 0,\"weight\" : 0,\"target\" : \"F98\",\"color\" : \"\",\"invisible\" : false},\"F126\" : {\"id\" : \"F126\",\"source\" : \"F94\",\"length\" : 0,\"weight\" : 0,\"target\" : \"F100\",\"color\" : \"\",\"invisible\" : false},\"F127\" : {\"id\" : \"F127\",\"source\" : \"F94\",\"length\" : 0,\"weight\" : 0,\"target\" : \"F102\",\"color\" : \"\",\"invisible\" : false},\"F128\" : {\"id\" : \"F128\",\"source\" : \"F94\",\"length\" : 0,\"weight\" : 0,\"target\" : \"F104\",\"color\" : \"\",\"invisible\" : false}}},\"zoomToFit\" : true,\"texTypesetting\" : false,\"menus\" : {},\"messages\" : {}}}"
     },
     "execution_count": 10,
     "metadata": {
      "application/vnd.francy+json": {}
     },
     "output_type": "execute_result"
    }
   ],
   "source": [
    "DrawOrbitalGraph(ogs[2]);"
   ]
  },
  {
   "cell_type": "code",
   "execution_count": 13,
   "metadata": {},
   "outputs": [
    {
     "data": {
      "image/svg+xml": [
       "<?xml version=\"1.0\" encoding=\"UTF-8\" standalone=\"no\"?>\n",
       "<!DOCTYPE svg PUBLIC \"-//W3C//DTD SVG 1.1//EN\"\n",
       " \"http://www.w3.org/Graphics/SVG/1.1/DTD/svg11.dtd\">\n",
       "<!-- Generated by graphviz version 2.38.0 (20140413.2041)\n",
       " -->\n",
       "<!-- Title: hgn Pages: 1 -->\n",
       "<svg width=\"260pt\" height=\"116pt\"\n",
       " viewBox=\"0.00 0.00 260.00 116.00\" xmlns=\"http://www.w3.org/2000/svg\" xmlns:xlink=\"http://www.w3.org/1999/xlink\">\n",
       "<g id=\"graph0\" class=\"graph\" transform=\"scale(1 1) rotate(0) translate(4 112)\">\n",
       "<title>hgn</title>\n",
       "<polygon fill=\"white\" stroke=\"none\" points=\"-4,4 -4,-112 256,-112 256,4 -4,4\"/>\n",
       "<!-- 1 -->\n",
       "<g id=\"node1\" class=\"node\"><title>1</title>\n",
       "<ellipse fill=\"none\" stroke=\"black\" cx=\"72\" cy=\"-90\" rx=\"18\" ry=\"18\"/>\n",
       "<text text-anchor=\"middle\" x=\"72\" y=\"-86.3\" font-family=\"Times,serif\" font-size=\"14.00\">1</text>\n",
       "</g>\n",
       "<!-- 4 -->\n",
       "<g id=\"node4\" class=\"node\"><title>4</title>\n",
       "<ellipse fill=\"none\" stroke=\"black\" cx=\"234\" cy=\"-18\" rx=\"18\" ry=\"18\"/>\n",
       "<text text-anchor=\"middle\" x=\"234\" y=\"-14.3\" font-family=\"Times,serif\" font-size=\"14.00\">4</text>\n",
       "</g>\n",
       "<!-- 1&#45;&gt;4 -->\n",
       "<g id=\"edge1\" class=\"edge\"><title>1&#45;&gt;4</title>\n",
       "<path fill=\"none\" stroke=\"black\" d=\"M86.4906,-78.9842C90.441,-76.5039 94.7939,-73.9896 99,-72 144.738,-50.365 161.262,-57.635 207,-36 208.183,-35.4404 209.378,-34.8393 210.572,-34.2092\"/>\n",
       "<polygon fill=\"black\" stroke=\"black\" points=\"212.621,-37.0661 219.509,-29.0158 209.105,-31.0136 212.621,-37.0661\"/>\n",
       "</g>\n",
       "<!-- 5 -->\n",
       "<g id=\"node5\" class=\"node\"><title>5</title>\n",
       "<ellipse fill=\"none\" stroke=\"black\" cx=\"18\" cy=\"-18\" rx=\"18\" ry=\"18\"/>\n",
       "<text text-anchor=\"middle\" x=\"18\" y=\"-14.3\" font-family=\"Times,serif\" font-size=\"14.00\">5</text>\n",
       "</g>\n",
       "<!-- 1&#45;&gt;5 -->\n",
       "<g id=\"edge2\" class=\"edge\"><title>1&#45;&gt;5</title>\n",
       "<path fill=\"none\" stroke=\"black\" d=\"M61.3313,-75.1703C53.7874,-65.391 43.5188,-52.0799 34.8713,-40.8702\"/>\n",
       "<polygon fill=\"black\" stroke=\"black\" points=\"37.5258,-38.581 28.6465,-32.801 31.9833,-42.8567 37.5258,-38.581\"/>\n",
       "</g>\n",
       "<!-- 6 -->\n",
       "<g id=\"node6\" class=\"node\"><title>6</title>\n",
       "<ellipse fill=\"none\" stroke=\"black\" cx=\"72\" cy=\"-18\" rx=\"18\" ry=\"18\"/>\n",
       "<text text-anchor=\"middle\" x=\"72\" y=\"-14.3\" font-family=\"Times,serif\" font-size=\"14.00\">6</text>\n",
       "</g>\n",
       "<!-- 1&#45;&gt;6 -->\n",
       "<g id=\"edge3\" class=\"edge\"><title>1&#45;&gt;6</title>\n",
       "<path fill=\"none\" stroke=\"black\" d=\"M72,-71.6966C72,-63.9827 72,-54.7125 72,-46.1124\"/>\n",
       "<polygon fill=\"black\" stroke=\"black\" points=\"75.5001,-46.1043 72,-36.1043 68.5001,-46.1044 75.5001,-46.1043\"/>\n",
       "</g>\n",
       "<!-- 7 -->\n",
       "<g id=\"node7\" class=\"node\"><title>7</title>\n",
       "<ellipse fill=\"none\" stroke=\"black\" cx=\"126\" cy=\"-18\" rx=\"18\" ry=\"18\"/>\n",
       "<text text-anchor=\"middle\" x=\"126\" y=\"-14.3\" font-family=\"Times,serif\" font-size=\"14.00\">7</text>\n",
       "</g>\n",
       "<!-- 1&#45;&gt;7 -->\n",
       "<g id=\"edge4\" class=\"edge\"><title>1&#45;&gt;7</title>\n",
       "<path fill=\"none\" stroke=\"black\" d=\"M82.6687,-75.1703C90.2126,-65.391 100.481,-52.0799 109.129,-40.8702\"/>\n",
       "<polygon fill=\"black\" stroke=\"black\" points=\"112.017,-42.8567 115.354,-32.801 106.474,-38.581 112.017,-42.8567\"/>\n",
       "</g>\n",
       "<!-- 8 -->\n",
       "<g id=\"node8\" class=\"node\"><title>8</title>\n",
       "<ellipse fill=\"none\" stroke=\"black\" cx=\"180\" cy=\"-18\" rx=\"18\" ry=\"18\"/>\n",
       "<text text-anchor=\"middle\" x=\"180\" y=\"-14.3\" font-family=\"Times,serif\" font-size=\"14.00\">8</text>\n",
       "</g>\n",
       "<!-- 1&#45;&gt;8 -->\n",
       "<g id=\"edge5\" class=\"edge\"><title>1&#45;&gt;8</title>\n",
       "<path fill=\"none\" stroke=\"black\" d=\"M87.0169,-79.2668C105.071,-67.5648 135.575,-47.7941 156.696,-34.1041\"/>\n",
       "<polygon fill=\"black\" stroke=\"black\" points=\"158.623,-37.0266 165.111,-28.6505 154.815,-31.1525 158.623,-37.0266\"/>\n",
       "</g>\n",
       "<!-- 2 -->\n",
       "<g id=\"node2\" class=\"node\"><title>2</title>\n",
       "<ellipse fill=\"none\" stroke=\"black\" cx=\"126\" cy=\"-90\" rx=\"18\" ry=\"18\"/>\n",
       "<text text-anchor=\"middle\" x=\"126\" y=\"-86.3\" font-family=\"Times,serif\" font-size=\"14.00\">2</text>\n",
       "</g>\n",
       "<!-- 2&#45;&gt;4 -->\n",
       "<g id=\"edge6\" class=\"edge\"><title>2&#45;&gt;4</title>\n",
       "<path fill=\"none\" stroke=\"black\" d=\"M141.017,-79.2668C159.071,-67.5648 189.575,-47.7941 210.696,-34.1041\"/>\n",
       "<polygon fill=\"black\" stroke=\"black\" points=\"212.623,-37.0266 219.111,-28.6505 208.815,-31.1525 212.623,-37.0266\"/>\n",
       "</g>\n",
       "<!-- 2&#45;&gt;5 -->\n",
       "<g id=\"edge7\" class=\"edge\"><title>2&#45;&gt;5</title>\n",
       "<path fill=\"none\" stroke=\"black\" d=\"M110.983,-79.2668C92.9286,-67.5648 62.4252,-47.7941 41.3035,-34.1041\"/>\n",
       "<polygon fill=\"black\" stroke=\"black\" points=\"43.1846,-31.1525 32.8894,-28.6505 39.3773,-37.0266 43.1846,-31.1525\"/>\n",
       "</g>\n",
       "<!-- 2&#45;&gt;6 -->\n",
       "<g id=\"edge8\" class=\"edge\"><title>2&#45;&gt;6</title>\n",
       "<path fill=\"none\" stroke=\"black\" d=\"M115.331,-75.1703C107.787,-65.391 97.5188,-52.0799 88.8713,-40.8702\"/>\n",
       "<polygon fill=\"black\" stroke=\"black\" points=\"91.5258,-38.581 82.6465,-32.801 85.9833,-42.8567 91.5258,-38.581\"/>\n",
       "</g>\n",
       "<!-- 2&#45;&gt;7 -->\n",
       "<g id=\"edge9\" class=\"edge\"><title>2&#45;&gt;7</title>\n",
       "<path fill=\"none\" stroke=\"black\" d=\"M126,-71.6966C126,-63.9827 126,-54.7125 126,-46.1124\"/>\n",
       "<polygon fill=\"black\" stroke=\"black\" points=\"129.5,-46.1043 126,-36.1043 122.5,-46.1044 129.5,-46.1043\"/>\n",
       "</g>\n",
       "<!-- 2&#45;&gt;8 -->\n",
       "<g id=\"edge10\" class=\"edge\"><title>2&#45;&gt;8</title>\n",
       "<path fill=\"none\" stroke=\"black\" d=\"M136.669,-75.1703C144.213,-65.391 154.481,-52.0799 163.129,-40.8702\"/>\n",
       "<polygon fill=\"black\" stroke=\"black\" points=\"166.017,-42.8567 169.354,-32.801 160.474,-38.581 166.017,-42.8567\"/>\n",
       "</g>\n",
       "<!-- 3 -->\n",
       "<g id=\"node3\" class=\"node\"><title>3</title>\n",
       "<ellipse fill=\"none\" stroke=\"black\" cx=\"180\" cy=\"-90\" rx=\"18\" ry=\"18\"/>\n",
       "<text text-anchor=\"middle\" x=\"180\" y=\"-86.3\" font-family=\"Times,serif\" font-size=\"14.00\">3</text>\n",
       "</g>\n",
       "<!-- 3&#45;&gt;4 -->\n",
       "<g id=\"edge11\" class=\"edge\"><title>3&#45;&gt;4</title>\n",
       "<path fill=\"none\" stroke=\"black\" d=\"M190.669,-75.1703C198.213,-65.391 208.481,-52.0799 217.129,-40.8702\"/>\n",
       "<polygon fill=\"black\" stroke=\"black\" points=\"220.017,-42.8567 223.354,-32.801 214.474,-38.581 220.017,-42.8567\"/>\n",
       "</g>\n",
       "<!-- 3&#45;&gt;5 -->\n",
       "<g id=\"edge12\" class=\"edge\"><title>3&#45;&gt;5</title>\n",
       "<path fill=\"none\" stroke=\"black\" d=\"M165.509,-78.9842C161.559,-76.5039 157.206,-73.9896 153,-72 107.262,-50.365 90.7376,-57.635 45,-36 43.817,-35.4404 42.6224,-34.8393 41.4285,-34.2092\"/>\n",
       "<polygon fill=\"black\" stroke=\"black\" points=\"42.8954,-31.0136 32.4906,-29.0158 39.3785,-37.0661 42.8954,-31.0136\"/>\n",
       "</g>\n",
       "<!-- 3&#45;&gt;6 -->\n",
       "<g id=\"edge13\" class=\"edge\"><title>3&#45;&gt;6</title>\n",
       "<path fill=\"none\" stroke=\"black\" d=\"M164.983,-79.2668C146.929,-67.5648 116.425,-47.7941 95.3035,-34.1041\"/>\n",
       "<polygon fill=\"black\" stroke=\"black\" points=\"97.1846,-31.1525 86.8894,-28.6505 93.3773,-37.0266 97.1846,-31.1525\"/>\n",
       "</g>\n",
       "<!-- 3&#45;&gt;7 -->\n",
       "<g id=\"edge14\" class=\"edge\"><title>3&#45;&gt;7</title>\n",
       "<path fill=\"none\" stroke=\"black\" d=\"M169.331,-75.1703C161.787,-65.391 151.519,-52.0799 142.871,-40.8702\"/>\n",
       "<polygon fill=\"black\" stroke=\"black\" points=\"145.526,-38.581 136.646,-32.801 139.983,-42.8567 145.526,-38.581\"/>\n",
       "</g>\n",
       "<!-- 3&#45;&gt;8 -->\n",
       "<g id=\"edge15\" class=\"edge\"><title>3&#45;&gt;8</title>\n",
       "<path fill=\"none\" stroke=\"black\" d=\"M180,-71.6966C180,-63.9827 180,-54.7125 180,-46.1124\"/>\n",
       "<polygon fill=\"black\" stroke=\"black\" points=\"183.5,-46.1043 180,-36.1043 176.5,-46.1044 183.5,-46.1043\"/>\n",
       "</g>\n",
       "</g>\n",
       "</svg>\n"
      ]
     },
     "execution_count": 11,
     "metadata": {
      "image/svg+xml": {
       "height": 500,
       "width": 500
      }
     },
     "output_type": "execute_result"
    },
    {
     "data": {
      "image/svg+xml": [
       "<?xml version=\"1.0\" encoding=\"UTF-8\" standalone=\"no\"?>\n",
       "<!DOCTYPE svg PUBLIC \"-//W3C//DTD SVG 1.1//EN\"\n",
       " \"http://www.w3.org/Graphics/SVG/1.1/DTD/svg11.dtd\">\n",
       "<!-- Generated by graphviz version 2.38.0 (20140413.2041)\n",
       " -->\n",
       "<!-- Title: hgn Pages: 1 -->\n",
       "<svg width=\"206pt\" height=\"332pt\"\n",
       " viewBox=\"0.00 0.00 206.00 332.00\" xmlns=\"http://www.w3.org/2000/svg\" xmlns:xlink=\"http://www.w3.org/1999/xlink\">\n",
       "<g id=\"graph0\" class=\"graph\" transform=\"scale(1 1) rotate(0) translate(4 328)\">\n",
       "<title>hgn</title>\n",
       "<polygon fill=\"white\" stroke=\"none\" points=\"-4,4 -4,-328 202,-328 202,4 -4,4\"/>\n",
       "<!-- 1 -->\n",
       "<g id=\"node1\" class=\"node\"><title>1</title>\n",
       "<ellipse fill=\"none\" stroke=\"black\" cx=\"18\" cy=\"-306\" rx=\"18\" ry=\"18\"/>\n",
       "<text text-anchor=\"middle\" x=\"18\" y=\"-302.3\" font-family=\"Times,serif\" font-size=\"14.00\">1</text>\n",
       "</g>\n",
       "<!-- 2 -->\n",
       "<g id=\"node2\" class=\"node\"><title>2</title>\n",
       "<ellipse fill=\"none\" stroke=\"black\" cx=\"72\" cy=\"-306\" rx=\"18\" ry=\"18\"/>\n",
       "<text text-anchor=\"middle\" x=\"72\" y=\"-302.3\" font-family=\"Times,serif\" font-size=\"14.00\">2</text>\n",
       "</g>\n",
       "<!-- 3 -->\n",
       "<g id=\"node3\" class=\"node\"><title>3</title>\n",
       "<ellipse fill=\"none\" stroke=\"black\" cx=\"126\" cy=\"-306\" rx=\"18\" ry=\"18\"/>\n",
       "<text text-anchor=\"middle\" x=\"126\" y=\"-302.3\" font-family=\"Times,serif\" font-size=\"14.00\">3</text>\n",
       "</g>\n",
       "<!-- 4 -->\n",
       "<g id=\"node4\" class=\"node\"><title>4</title>\n",
       "<ellipse fill=\"none\" stroke=\"black\" cx=\"180\" cy=\"-306\" rx=\"18\" ry=\"18\"/>\n",
       "<text text-anchor=\"middle\" x=\"180\" y=\"-302.3\" font-family=\"Times,serif\" font-size=\"14.00\">4</text>\n",
       "</g>\n",
       "<!-- 6 -->\n",
       "<g id=\"node6\" class=\"node\"><title>6</title>\n",
       "<ellipse fill=\"none\" stroke=\"black\" cx=\"157\" cy=\"-234\" rx=\"18\" ry=\"18\"/>\n",
       "<text text-anchor=\"middle\" x=\"157\" y=\"-230.3\" font-family=\"Times,serif\" font-size=\"14.00\">6</text>\n",
       "</g>\n",
       "<!-- 4&#45;&gt;6 -->\n",
       "<g id=\"edge1\" class=\"edge\"><title>4&#45;&gt;6</title>\n",
       "<path fill=\"none\" stroke=\"black\" d=\"M174.666,-288.765C171.976,-280.578 168.647,-270.448 165.607,-261.195\"/>\n",
       "<polygon fill=\"black\" stroke=\"black\" points=\"168.912,-260.041 162.465,-251.633 162.262,-262.226 168.912,-260.041\"/>\n",
       "</g>\n",
       "<!-- 5 -->\n",
       "<g id=\"node5\" class=\"node\"><title>5</title>\n",
       "<ellipse fill=\"none\" stroke=\"black\" cx=\"157\" cy=\"-90\" rx=\"18\" ry=\"18\"/>\n",
       "<text text-anchor=\"middle\" x=\"157\" y=\"-86.3\" font-family=\"Times,serif\" font-size=\"14.00\">5</text>\n",
       "</g>\n",
       "<!-- 7 -->\n",
       "<g id=\"node7\" class=\"node\"><title>7</title>\n",
       "<ellipse fill=\"none\" stroke=\"black\" cx=\"180\" cy=\"-18\" rx=\"18\" ry=\"18\"/>\n",
       "<text text-anchor=\"middle\" x=\"180\" y=\"-14.3\" font-family=\"Times,serif\" font-size=\"14.00\">7</text>\n",
       "</g>\n",
       "<!-- 5&#45;&gt;7 -->\n",
       "<g id=\"edge2\" class=\"edge\"><title>5&#45;&gt;7</title>\n",
       "<path fill=\"none\" stroke=\"black\" d=\"M162.334,-72.7646C165.024,-64.5785 168.353,-54.4479 171.393,-45.1953\"/>\n",
       "<polygon fill=\"black\" stroke=\"black\" points=\"174.738,-46.2263 174.535,-35.6334 168.088,-44.0412 174.738,-46.2263\"/>\n",
       "</g>\n",
       "<!-- 8 -->\n",
       "<g id=\"node8\" class=\"node\"><title>8</title>\n",
       "<ellipse fill=\"none\" stroke=\"black\" cx=\"157\" cy=\"-162\" rx=\"18\" ry=\"18\"/>\n",
       "<text text-anchor=\"middle\" x=\"157\" y=\"-158.3\" font-family=\"Times,serif\" font-size=\"14.00\">8</text>\n",
       "</g>\n",
       "<!-- 6&#45;&gt;8 -->\n",
       "<g id=\"edge3\" class=\"edge\"><title>6&#45;&gt;8</title>\n",
       "<path fill=\"none\" stroke=\"black\" d=\"M157,-215.697C157,-207.983 157,-198.712 157,-190.112\"/>\n",
       "<polygon fill=\"black\" stroke=\"black\" points=\"160.5,-190.104 157,-180.104 153.5,-190.104 160.5,-190.104\"/>\n",
       "</g>\n",
       "<!-- 7&#45;&gt;4 -->\n",
       "<g id=\"edge4\" class=\"edge\"><title>7&#45;&gt;4</title>\n",
       "<path fill=\"none\" stroke=\"black\" d=\"M181.625,-36.1672C182.524,-46.5327 183.548,-60.0127 184,-72 187.012,-151.943 187.012,-172.057 184,-252 183.686,-260.335 183.095,-269.392 182.462,-277.621\"/>\n",
       "<polygon fill=\"black\" stroke=\"black\" points=\"178.953,-277.58 181.625,-287.833 185.93,-278.152 178.953,-277.58\"/>\n",
       "</g>\n",
       "<!-- 8&#45;&gt;5 -->\n",
       "<g id=\"edge5\" class=\"edge\"><title>8&#45;&gt;5</title>\n",
       "<path fill=\"none\" stroke=\"black\" d=\"M157,-143.697C157,-135.983 157,-126.712 157,-118.112\"/>\n",
       "<polygon fill=\"black\" stroke=\"black\" points=\"160.5,-118.104 157,-108.104 153.5,-118.104 160.5,-118.104\"/>\n",
       "</g>\n",
       "</g>\n",
       "</svg>\n"
      ]
     },
     "execution_count": 12,
     "metadata": {
      "image/svg+xml": {
       "height": 500,
       "width": 500
      }
     },
     "output_type": "execute_result"
    },
    {
     "data": {
      "image/svg+xml": [
       "<?xml version=\"1.0\" encoding=\"UTF-8\" standalone=\"no\"?>\n",
       "<!DOCTYPE svg PUBLIC \"-//W3C//DTD SVG 1.1//EN\"\n",
       " \"http://www.w3.org/Graphics/SVG/1.1/DTD/svg11.dtd\">\n",
       "<!-- Generated by graphviz version 2.38.0 (20140413.2041)\n",
       " -->\n",
       "<!-- Title: hgn Pages: 1 -->\n",
       "<svg width=\"206pt\" height=\"332pt\"\n",
       " viewBox=\"0.00 0.00 206.00 332.00\" xmlns=\"http://www.w3.org/2000/svg\" xmlns:xlink=\"http://www.w3.org/1999/xlink\">\n",
       "<g id=\"graph0\" class=\"graph\" transform=\"scale(1 1) rotate(0) translate(4 328)\">\n",
       "<title>hgn</title>\n",
       "<polygon fill=\"white\" stroke=\"none\" points=\"-4,4 -4,-328 202,-328 202,4 -4,4\"/>\n",
       "<!-- 1 -->\n",
       "<g id=\"node1\" class=\"node\"><title>1</title>\n",
       "<ellipse fill=\"none\" stroke=\"black\" cx=\"18\" cy=\"-306\" rx=\"18\" ry=\"18\"/>\n",
       "<text text-anchor=\"middle\" x=\"18\" y=\"-302.3\" font-family=\"Times,serif\" font-size=\"14.00\">1</text>\n",
       "</g>\n",
       "<!-- 2 -->\n",
       "<g id=\"node2\" class=\"node\"><title>2</title>\n",
       "<ellipse fill=\"none\" stroke=\"black\" cx=\"72\" cy=\"-306\" rx=\"18\" ry=\"18\"/>\n",
       "<text text-anchor=\"middle\" x=\"72\" y=\"-302.3\" font-family=\"Times,serif\" font-size=\"14.00\">2</text>\n",
       "</g>\n",
       "<!-- 3 -->\n",
       "<g id=\"node3\" class=\"node\"><title>3</title>\n",
       "<ellipse fill=\"none\" stroke=\"black\" cx=\"126\" cy=\"-306\" rx=\"18\" ry=\"18\"/>\n",
       "<text text-anchor=\"middle\" x=\"126\" y=\"-302.3\" font-family=\"Times,serif\" font-size=\"14.00\">3</text>\n",
       "</g>\n",
       "<!-- 4 -->\n",
       "<g id=\"node4\" class=\"node\"><title>4</title>\n",
       "<ellipse fill=\"none\" stroke=\"black\" cx=\"180\" cy=\"-306\" rx=\"18\" ry=\"18\"/>\n",
       "<text text-anchor=\"middle\" x=\"180\" y=\"-302.3\" font-family=\"Times,serif\" font-size=\"14.00\">4</text>\n",
       "</g>\n",
       "<!-- 8 -->\n",
       "<g id=\"node8\" class=\"node\"><title>8</title>\n",
       "<ellipse fill=\"none\" stroke=\"black\" cx=\"157\" cy=\"-234\" rx=\"18\" ry=\"18\"/>\n",
       "<text text-anchor=\"middle\" x=\"157\" y=\"-230.3\" font-family=\"Times,serif\" font-size=\"14.00\">8</text>\n",
       "</g>\n",
       "<!-- 4&#45;&gt;8 -->\n",
       "<g id=\"edge1\" class=\"edge\"><title>4&#45;&gt;8</title>\n",
       "<path fill=\"none\" stroke=\"black\" d=\"M174.666,-288.765C171.976,-280.578 168.647,-270.448 165.607,-261.195\"/>\n",
       "<polygon fill=\"black\" stroke=\"black\" points=\"168.912,-260.041 162.465,-251.633 162.262,-262.226 168.912,-260.041\"/>\n",
       "</g>\n",
       "<!-- 5 -->\n",
       "<g id=\"node5\" class=\"node\"><title>5</title>\n",
       "<ellipse fill=\"none\" stroke=\"black\" cx=\"180\" cy=\"-18\" rx=\"18\" ry=\"18\"/>\n",
       "<text text-anchor=\"middle\" x=\"180\" y=\"-14.3\" font-family=\"Times,serif\" font-size=\"14.00\">5</text>\n",
       "</g>\n",
       "<!-- 5&#45;&gt;4 -->\n",
       "<g id=\"edge2\" class=\"edge\"><title>5&#45;&gt;4</title>\n",
       "<path fill=\"none\" stroke=\"black\" d=\"M181.625,-36.1672C182.524,-46.5327 183.548,-60.0127 184,-72 187.012,-151.943 187.012,-172.057 184,-252 183.686,-260.335 183.095,-269.392 182.462,-277.621\"/>\n",
       "<polygon fill=\"black\" stroke=\"black\" points=\"178.953,-277.58 181.625,-287.833 185.93,-278.152 178.953,-277.58\"/>\n",
       "</g>\n",
       "<!-- 6 -->\n",
       "<g id=\"node6\" class=\"node\"><title>6</title>\n",
       "<ellipse fill=\"none\" stroke=\"black\" cx=\"157\" cy=\"-90\" rx=\"18\" ry=\"18\"/>\n",
       "<text text-anchor=\"middle\" x=\"157\" y=\"-86.3\" font-family=\"Times,serif\" font-size=\"14.00\">6</text>\n",
       "</g>\n",
       "<!-- 6&#45;&gt;5 -->\n",
       "<g id=\"edge3\" class=\"edge\"><title>6&#45;&gt;5</title>\n",
       "<path fill=\"none\" stroke=\"black\" d=\"M162.334,-72.7646C165.024,-64.5785 168.353,-54.4479 171.393,-45.1953\"/>\n",
       "<polygon fill=\"black\" stroke=\"black\" points=\"174.738,-46.2263 174.535,-35.6334 168.088,-44.0412 174.738,-46.2263\"/>\n",
       "</g>\n",
       "<!-- 7 -->\n",
       "<g id=\"node7\" class=\"node\"><title>7</title>\n",
       "<ellipse fill=\"none\" stroke=\"black\" cx=\"157\" cy=\"-162\" rx=\"18\" ry=\"18\"/>\n",
       "<text text-anchor=\"middle\" x=\"157\" y=\"-158.3\" font-family=\"Times,serif\" font-size=\"14.00\">7</text>\n",
       "</g>\n",
       "<!-- 7&#45;&gt;6 -->\n",
       "<g id=\"edge4\" class=\"edge\"><title>7&#45;&gt;6</title>\n",
       "<path fill=\"none\" stroke=\"black\" d=\"M157,-143.697C157,-135.983 157,-126.712 157,-118.112\"/>\n",
       "<polygon fill=\"black\" stroke=\"black\" points=\"160.5,-118.104 157,-108.104 153.5,-118.104 160.5,-118.104\"/>\n",
       "</g>\n",
       "<!-- 8&#45;&gt;7 -->\n",
       "<g id=\"edge5\" class=\"edge\"><title>8&#45;&gt;7</title>\n",
       "<path fill=\"none\" stroke=\"black\" d=\"M157,-215.697C157,-207.983 157,-198.712 157,-190.112\"/>\n",
       "<polygon fill=\"black\" stroke=\"black\" points=\"160.5,-190.104 157,-180.104 153.5,-190.104 160.5,-190.104\"/>\n",
       "</g>\n",
       "</g>\n",
       "</svg>\n"
      ]
     },
     "execution_count": 13,
     "metadata": {
      "image/svg+xml": {
       "height": 500,
       "width": 500
      }
     },
     "output_type": "execute_result"
    }
   ],
   "source": [
    "# Maybe slightly more useful?\n",
    "JupyterSplashDot(DotDigraph(ogs[2]));\n",
    "JupyterSplashDot(DotDigraph(ogs[5]));\n",
    "JupyterSplashDot(DotDigraph(ogs[7]));\n",
    "\n"
   ]
  },
  {
   "cell_type": "code",
   "execution_count": null,
   "metadata": {},
   "outputs": [],
   "source": []
  }
 ],
 "metadata": {
  "kernelspec": {
   "display_name": "GAP 4",
   "language": "gap",
   "name": "gap-4"
  },
  "language_info": {
   "codemirror_mode": "gap",
   "file_extension": ".g",
   "mimetype": "text/x-gap",
   "name": "GAP 4",
   "nbconvert_exporter": "",
   "pygments_lexer": "gap",
   "version": "4.dev"
  }
 },
 "nbformat": 4,
 "nbformat_minor": 2
}
