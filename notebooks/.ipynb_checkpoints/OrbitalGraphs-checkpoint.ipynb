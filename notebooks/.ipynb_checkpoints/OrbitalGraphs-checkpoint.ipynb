{
 "cells": [
  {
   "cell_type": "markdown",
   "metadata": {},
   "source": [
    "# Demo for the OrbitalGraphs GAP package\n",
    "\n",
    "This attempts to draw orbital graphs for groups $G \\leq S_n$"
   ]
  },
  {
   "cell_type": "code",
   "execution_count": 5,
   "metadata": {},
   "outputs": [
    {
     "data": {
      "text/plain": [
       "true"
      ]
     },
     "execution_count": 4,
     "metadata": {
      "text/plain": ""
     },
     "output_type": "execute_result"
    },
    {
     "data": {
      "text/plain": [
       "true"
      ]
     },
     "execution_count": 5,
     "metadata": {
      "text/plain": ""
     },
     "output_type": "execute_result"
    }
   ],
   "source": [
    "LoadPackage(\"OrbitalGraphs\");\n",
    "LoadPackage(\"Francy\");"
   ]
  },
  {
   "cell_type": "code",
   "execution_count": 40,
   "metadata": {},
   "outputs": [
    {
     "data": {
      "text/plain": [
       "function( OG ) ... end"
      ]
     },
     "execution_count": 40,
     "metadata": {
      "text/plain": ""
     },
     "output_type": "execute_result"
    }
   ],
   "source": [
    "# Input: an orbital graph\n",
    "# Draws orbital graphs\n",
    "\n",
    "DrawOrbitalGraph := function(OG)\n",
    "    local canvas, fgraph, i, e, nodes, centernode;\n",
    "    \n",
    "    # todo: make it possible to put a caption here\n",
    "    canvas := Canvas(Concatenation(\"Orbital Graph of\", \"\"));\n",
    "    fgraph := Graph(GraphType.DIRECTED);\n",
    "    Add(canvas, fgraph);\n",
    "\n",
    "    centernode := Shape(ShapeType.CIRCLE, \"\");\n",
    "    Add(fgraph, centernode);\n",
    "    SetInvisible(centernode, true);\n",
    "    nodes := [];\n",
    "\n",
    "    for i in DigraphVertices(OG) do\n",
    "        nodes[i] := Shape(ShapeType.CIRCLE, String(i));;\n",
    "        Add(fgraph, nodes[i]);\n",
    "        e := Link(centernode, nodes[i]);\n",
    "        SetInvisible(e, true);\n",
    "        Add(fgraph, e);\n",
    "    od;\n",
    "    for i in [1..Length(nodes)-1] do\n",
    "        e := Link(nodes[i], nodes[i+1]);\n",
    "        SetInvisible(e, true);\n",
    "        Add(fgraph, e);\n",
    "    od;\n",
    "    e := Link(nodes[Length(nodes)], nodes[1]);\n",
    "    SetInvisible(e, true);\n",
    "    Add(fgraph, e);\n",
    "\n",
    "    for e in DigraphEdges(OG) do\n",
    "        Add(fgraph, Link(nodes[e[1]], nodes[e[2]]));\n",
    "    od;\n",
    "\n",
    "    return Draw(canvas);\n",
    "end;"
   ]
  },
  {
   "cell_type": "code",
   "execution_count": 46,
   "metadata": {},
   "outputs": [
    {
     "data": {
      "text/plain": [
       "Group([ (1,2,3,4,5,6,7,8), (2,8)(3,7)(4,6) ])"
      ]
     },
     "execution_count": 45,
     "metadata": {
      "text/plain": ""
     },
     "output_type": "execute_result"
    },
    {
     "data": {
      "text/plain": [
       "[ <digraph with 8 vertices, 16 edges>, <digraph with 8 vertices, 16 edges>, <digraph with 8 vertices, 16 edges>, <digraph with 8 vertices, 8 edges> ]"
      ]
     },
     "execution_count": 46,
     "metadata": {
      "text/plain": ""
     },
     "output_type": "execute_result"
    }
   ],
   "source": [
    "G := DihedralGroup(IsPermGroup, 16);\n",
    "ogs := OrbitalGraphs(G);"
   ]
  },
  {
   "cell_type": "code",
   "execution_count": 47,
   "metadata": {},
   "outputs": [
    {
     "data": {
      "application/vnd.francy+json": "{\"version\" : \"0.8.10\",\"mime\" : \"application\\/vnd.francy+json\",\"canvas\" : {\"width\" : 800,\"id\" : \"F217\",\"height\" : 600,\"title\" : \"Orbital Graph of\",\"graph\" : {\"type\" : \"directed\",\"id\" : \"F218\",\"simulation\" : true,\"collapsed\" : true,\"drag\" : false,\"showNeighbours\" : false,\"nodes\" : {\"F219\" : {\"x\" : 0,\"y\" : 0,\"type\" : \"circle\",\"id\" : \"F219\",\"size\" : 10,\"title\" : \"\",\"layer\" : 0,\"color\" : \"\",\"parent\" : \"\",\"menus\" : {},\"messages\" : {},\"callbacks\" : {}},\"F220\" : {\"x\" : 0,\"y\" : 0,\"type\" : \"circle\",\"id\" : \"F220\",\"size\" : 10,\"title\" : \"1\",\"layer\" : 0,\"color\" : \"\",\"parent\" : \"\",\"menus\" : {},\"messages\" : {},\"callbacks\" : {}},\"F222\" : {\"x\" : 0,\"y\" : 0,\"type\" : \"circle\",\"id\" : \"F222\",\"size\" : 10,\"title\" : \"2\",\"layer\" : 0,\"color\" : \"\",\"parent\" : \"\",\"menus\" : {},\"messages\" : {},\"callbacks\" : {}},\"F224\" : {\"x\" : 0,\"y\" : 0,\"type\" : \"circle\",\"id\" : \"F224\",\"size\" : 10,\"title\" : \"3\",\"layer\" : 0,\"color\" : \"\",\"parent\" : \"\",\"menus\" : {},\"messages\" : {},\"callbacks\" : {}},\"F226\" : {\"x\" : 0,\"y\" : 0,\"type\" : \"circle\",\"id\" : \"F226\",\"size\" : 10,\"title\" : \"4\",\"layer\" : 0,\"color\" : \"\",\"parent\" : \"\",\"menus\" : {},\"messages\" : {},\"callbacks\" : {}},\"F228\" : {\"x\" : 0,\"y\" : 0,\"type\" : \"circle\",\"id\" : \"F228\",\"size\" : 10,\"title\" : \"5\",\"layer\" : 0,\"color\" : \"\",\"parent\" : \"\",\"menus\" : {},\"messages\" : {},\"callbacks\" : {}},\"F230\" : {\"x\" : 0,\"y\" : 0,\"type\" : \"circle\",\"id\" : \"F230\",\"size\" : 10,\"title\" : \"6\",\"layer\" : 0,\"color\" : \"\",\"parent\" : \"\",\"menus\" : {},\"messages\" : {},\"callbacks\" : {}},\"F232\" : {\"x\" : 0,\"y\" : 0,\"type\" : \"circle\",\"id\" : \"F232\",\"size\" : 10,\"title\" : \"7\",\"layer\" : 0,\"color\" : \"\",\"parent\" : \"\",\"menus\" : {},\"messages\" : {},\"callbacks\" : {}},\"F234\" : {\"x\" : 0,\"y\" : 0,\"type\" : \"circle\",\"id\" : \"F234\",\"size\" : 10,\"title\" : \"8\",\"layer\" : 0,\"color\" : \"\",\"parent\" : \"\",\"menus\" : {},\"messages\" : {},\"callbacks\" : {}}},\"links\" : {\"F221\" : {\"id\" : \"F221\",\"source\" : \"F219\",\"length\" : 0,\"weight\" : 0,\"target\" : \"F220\",\"color\" : \"\",\"invisible\" : true},\"F223\" : {\"id\" : \"F223\",\"source\" : \"F219\",\"length\" : 0,\"weight\" : 0,\"target\" : \"F222\",\"color\" : \"\",\"invisible\" : true},\"F225\" : {\"id\" : \"F225\",\"source\" : \"F219\",\"length\" : 0,\"weight\" : 0,\"target\" : \"F224\",\"color\" : \"\",\"invisible\" : true},\"F227\" : {\"id\" : \"F227\",\"source\" : \"F219\",\"length\" : 0,\"weight\" : 0,\"target\" : \"F226\",\"color\" : \"\",\"invisible\" : true},\"F229\" : {\"id\" : \"F229\",\"source\" : \"F219\",\"length\" : 0,\"weight\" : 0,\"target\" : \"F228\",\"color\" : \"\",\"invisible\" : true},\"F231\" : {\"id\" : \"F231\",\"source\" : \"F219\",\"length\" : 0,\"weight\" : 0,\"target\" : \"F230\",\"color\" : \"\",\"invisible\" : true},\"F233\" : {\"id\" : \"F233\",\"source\" : \"F219\",\"length\" : 0,\"weight\" : 0,\"target\" : \"F232\",\"color\" : \"\",\"invisible\" : true},\"F235\" : {\"id\" : \"F235\",\"source\" : \"F219\",\"length\" : 0,\"weight\" : 0,\"target\" : \"F234\",\"color\" : \"\",\"invisible\" : true},\"F236\" : {\"id\" : \"F236\",\"source\" : \"F220\",\"length\" : 0,\"weight\" : 0,\"target\" : \"F222\",\"color\" : \"\",\"invisible\" : true},\"F237\" : {\"id\" : \"F237\",\"source\" : \"F222\",\"length\" : 0,\"weight\" : 0,\"target\" : \"F224\",\"color\" : \"\",\"invisible\" : true},\"F238\" : {\"id\" : \"F238\",\"source\" : \"F224\",\"length\" : 0,\"weight\" : 0,\"target\" : \"F226\",\"color\" : \"\",\"invisible\" : true},\"F239\" : {\"id\" : \"F239\",\"source\" : \"F226\",\"length\" : 0,\"weight\" : 0,\"target\" : \"F228\",\"color\" : \"\",\"invisible\" : true},\"F240\" : {\"id\" : \"F240\",\"source\" : \"F228\",\"length\" : 0,\"weight\" : 0,\"target\" : \"F230\",\"color\" : \"\",\"invisible\" : true},\"F241\" : {\"id\" : \"F241\",\"source\" : \"F230\",\"length\" : 0,\"weight\" : 0,\"target\" : \"F232\",\"color\" : \"\",\"invisible\" : true},\"F242\" : {\"id\" : \"F242\",\"source\" : \"F232\",\"length\" : 0,\"weight\" : 0,\"target\" : \"F234\",\"color\" : \"\",\"invisible\" : true},\"F243\" : {\"id\" : \"F243\",\"source\" : \"F234\",\"length\" : 0,\"weight\" : 0,\"target\" : \"F220\",\"color\" : \"\",\"invisible\" : true},\"F244\" : {\"id\" : \"F244\",\"source\" : \"F220\",\"length\" : 0,\"weight\" : 0,\"target\" : \"F222\",\"color\" : \"\",\"invisible\" : false},\"F245\" : {\"id\" : \"F245\",\"source\" : \"F220\",\"length\" : 0,\"weight\" : 0,\"target\" : \"F234\",\"color\" : \"\",\"invisible\" : false},\"F246\" : {\"id\" : \"F246\",\"source\" : \"F222\",\"length\" : 0,\"weight\" : 0,\"target\" : \"F224\",\"color\" : \"\",\"invisible\" : false},\"F247\" : {\"id\" : \"F247\",\"source\" : \"F222\",\"length\" : 0,\"weight\" : 0,\"target\" : \"F220\",\"color\" : \"\",\"invisible\" : false},\"F248\" : {\"id\" : \"F248\",\"source\" : \"F224\",\"length\" : 0,\"weight\" : 0,\"target\" : \"F226\",\"color\" : \"\",\"invisible\" : false},\"F249\" : {\"id\" : \"F249\",\"source\" : \"F224\",\"length\" : 0,\"weight\" : 0,\"target\" : \"F222\",\"color\" : \"\",\"invisible\" : false},\"F250\" : {\"id\" : \"F250\",\"source\" : \"F226\",\"length\" : 0,\"weight\" : 0,\"target\" : \"F228\",\"color\" : \"\",\"invisible\" : false},\"F251\" : {\"id\" : \"F251\",\"source\" : \"F226\",\"length\" : 0,\"weight\" : 0,\"target\" : \"F224\",\"color\" : \"\",\"invisible\" : false},\"F252\" : {\"id\" : \"F252\",\"source\" : \"F228\",\"length\" : 0,\"weight\" : 0,\"target\" : \"F230\",\"color\" : \"\",\"invisible\" : false},\"F253\" : {\"id\" : \"F253\",\"source\" : \"F228\",\"length\" : 0,\"weight\" : 0,\"target\" : \"F226\",\"color\" : \"\",\"invisible\" : false},\"F254\" : {\"id\" : \"F254\",\"source\" : \"F230\",\"length\" : 0,\"weight\" : 0,\"target\" : \"F228\",\"color\" : \"\",\"invisible\" : false},\"F255\" : {\"id\" : \"F255\",\"source\" : \"F230\",\"length\" : 0,\"weight\" : 0,\"target\" : \"F232\",\"color\" : \"\",\"invisible\" : false},\"F256\" : {\"id\" : \"F256\",\"source\" : \"F232\",\"length\" : 0,\"weight\" : 0,\"target\" : \"F230\",\"color\" : \"\",\"invisible\" : false},\"F257\" : {\"id\" : \"F257\",\"source\" : \"F232\",\"length\" : 0,\"weight\" : 0,\"target\" : \"F234\",\"color\" : \"\",\"invisible\" : false},\"F258\" : {\"id\" : \"F258\",\"source\" : \"F234\",\"length\" : 0,\"weight\" : 0,\"target\" : \"F232\",\"color\" : \"\",\"invisible\" : false},\"F259\" : {\"id\" : \"F259\",\"source\" : \"F234\",\"length\" : 0,\"weight\" : 0,\"target\" : \"F220\",\"color\" : \"\",\"invisible\" : false}}},\"zoomToFit\" : true,\"texTypesetting\" : false,\"menus\" : {},\"messages\" : {}}}"
     },
     "execution_count": 47,
     "metadata": {
      "application/vnd.francy+json": {}
     },
     "output_type": "execute_result"
    }
   ],
   "source": [
    "# This seems to work quite ok\n",
    "DrawOrbitalGraph(ogs[1]);"
   ]
  },
  {
   "cell_type": "code",
   "execution_count": 48,
   "metadata": {},
   "outputs": [
    {
     "data": {
      "application/vnd.francy+json": "{\"version\" : \"0.8.10\",\"mime\" : \"application\\/vnd.francy+json\",\"canvas\" : {\"width\" : 800,\"id\" : \"F260\",\"height\" : 600,\"title\" : \"Orbital Graph of\",\"graph\" : {\"type\" : \"directed\",\"id\" : \"F261\",\"simulation\" : true,\"collapsed\" : true,\"drag\" : false,\"showNeighbours\" : false,\"nodes\" : {\"F262\" : {\"x\" : 0,\"y\" : 0,\"type\" : \"circle\",\"id\" : \"F262\",\"size\" : 10,\"title\" : \"\",\"layer\" : 0,\"color\" : \"\",\"parent\" : \"\",\"menus\" : {},\"messages\" : {},\"callbacks\" : {}},\"F263\" : {\"x\" : 0,\"y\" : 0,\"type\" : \"circle\",\"id\" : \"F263\",\"size\" : 10,\"title\" : \"1\",\"layer\" : 0,\"color\" : \"\",\"parent\" : \"\",\"menus\" : {},\"messages\" : {},\"callbacks\" : {}},\"F265\" : {\"x\" : 0,\"y\" : 0,\"type\" : \"circle\",\"id\" : \"F265\",\"size\" : 10,\"title\" : \"2\",\"layer\" : 0,\"color\" : \"\",\"parent\" : \"\",\"menus\" : {},\"messages\" : {},\"callbacks\" : {}},\"F267\" : {\"x\" : 0,\"y\" : 0,\"type\" : \"circle\",\"id\" : \"F267\",\"size\" : 10,\"title\" : \"3\",\"layer\" : 0,\"color\" : \"\",\"parent\" : \"\",\"menus\" : {},\"messages\" : {},\"callbacks\" : {}},\"F269\" : {\"x\" : 0,\"y\" : 0,\"type\" : \"circle\",\"id\" : \"F269\",\"size\" : 10,\"title\" : \"4\",\"layer\" : 0,\"color\" : \"\",\"parent\" : \"\",\"menus\" : {},\"messages\" : {},\"callbacks\" : {}},\"F271\" : {\"x\" : 0,\"y\" : 0,\"type\" : \"circle\",\"id\" : \"F271\",\"size\" : 10,\"title\" : \"5\",\"layer\" : 0,\"color\" : \"\",\"parent\" : \"\",\"menus\" : {},\"messages\" : {},\"callbacks\" : {}},\"F273\" : {\"x\" : 0,\"y\" : 0,\"type\" : \"circle\",\"id\" : \"F273\",\"size\" : 10,\"title\" : \"6\",\"layer\" : 0,\"color\" : \"\",\"parent\" : \"\",\"menus\" : {},\"messages\" : {},\"callbacks\" : {}},\"F275\" : {\"x\" : 0,\"y\" : 0,\"type\" : \"circle\",\"id\" : \"F275\",\"size\" : 10,\"title\" : \"7\",\"layer\" : 0,\"color\" : \"\",\"parent\" : \"\",\"menus\" : {},\"messages\" : {},\"callbacks\" : {}},\"F277\" : {\"x\" : 0,\"y\" : 0,\"type\" : \"circle\",\"id\" : \"F277\",\"size\" : 10,\"title\" : \"8\",\"layer\" : 0,\"color\" : \"\",\"parent\" : \"\",\"menus\" : {},\"messages\" : {},\"callbacks\" : {}}},\"links\" : {\"F264\" : {\"id\" : \"F264\",\"source\" : \"F262\",\"length\" : 0,\"weight\" : 0,\"target\" : \"F263\",\"color\" : \"\",\"invisible\" : true},\"F266\" : {\"id\" : \"F266\",\"source\" : \"F262\",\"length\" : 0,\"weight\" : 0,\"target\" : \"F265\",\"color\" : \"\",\"invisible\" : true},\"F268\" : {\"id\" : \"F268\",\"source\" : \"F262\",\"length\" : 0,\"weight\" : 0,\"target\" : \"F267\",\"color\" : \"\",\"invisible\" : true},\"F270\" : {\"id\" : \"F270\",\"source\" : \"F262\",\"length\" : 0,\"weight\" : 0,\"target\" : \"F269\",\"color\" : \"\",\"invisible\" : true},\"F272\" : {\"id\" : \"F272\",\"source\" : \"F262\",\"length\" : 0,\"weight\" : 0,\"target\" : \"F271\",\"color\" : \"\",\"invisible\" : true},\"F274\" : {\"id\" : \"F274\",\"source\" : \"F262\",\"length\" : 0,\"weight\" : 0,\"target\" : \"F273\",\"color\" : \"\",\"invisible\" : true},\"F276\" : {\"id\" : \"F276\",\"source\" : \"F262\",\"length\" : 0,\"weight\" : 0,\"target\" : \"F275\",\"color\" : \"\",\"invisible\" : true},\"F278\" : {\"id\" : \"F278\",\"source\" : \"F262\",\"length\" : 0,\"weight\" : 0,\"target\" : \"F277\",\"color\" : \"\",\"invisible\" : true},\"F279\" : {\"id\" : \"F279\",\"source\" : \"F263\",\"length\" : 0,\"weight\" : 0,\"target\" : \"F265\",\"color\" : \"\",\"invisible\" : true},\"F280\" : {\"id\" : \"F280\",\"source\" : \"F265\",\"length\" : 0,\"weight\" : 0,\"target\" : \"F267\",\"color\" : \"\",\"invisible\" : true},\"F281\" : {\"id\" : \"F281\",\"source\" : \"F267\",\"length\" : 0,\"weight\" : 0,\"target\" : \"F269\",\"color\" : \"\",\"invisible\" : true},\"F282\" : {\"id\" : \"F282\",\"source\" : \"F269\",\"length\" : 0,\"weight\" : 0,\"target\" : \"F271\",\"color\" : \"\",\"invisible\" : true},\"F283\" : {\"id\" : \"F283\",\"source\" : \"F271\",\"length\" : 0,\"weight\" : 0,\"target\" : \"F273\",\"color\" : \"\",\"invisible\" : true},\"F284\" : {\"id\" : \"F284\",\"source\" : \"F273\",\"length\" : 0,\"weight\" : 0,\"target\" : \"F275\",\"color\" : \"\",\"invisible\" : true},\"F285\" : {\"id\" : \"F285\",\"source\" : \"F275\",\"length\" : 0,\"weight\" : 0,\"target\" : \"F277\",\"color\" : \"\",\"invisible\" : true},\"F286\" : {\"id\" : \"F286\",\"source\" : \"F277\",\"length\" : 0,\"weight\" : 0,\"target\" : \"F263\",\"color\" : \"\",\"invisible\" : true},\"F287\" : {\"id\" : \"F287\",\"source\" : \"F263\",\"length\" : 0,\"weight\" : 0,\"target\" : \"F267\",\"color\" : \"\",\"invisible\" : false},\"F288\" : {\"id\" : \"F288\",\"source\" : \"F263\",\"length\" : 0,\"weight\" : 0,\"target\" : \"F275\",\"color\" : \"\",\"invisible\" : false},\"F289\" : {\"id\" : \"F289\",\"source\" : \"F265\",\"length\" : 0,\"weight\" : 0,\"target\" : \"F269\",\"color\" : \"\",\"invisible\" : false},\"F290\" : {\"id\" : \"F290\",\"source\" : \"F265\",\"length\" : 0,\"weight\" : 0,\"target\" : \"F277\",\"color\" : \"\",\"invisible\" : false},\"F291\" : {\"id\" : \"F291\",\"source\" : \"F267\",\"length\" : 0,\"weight\" : 0,\"target\" : \"F271\",\"color\" : \"\",\"invisible\" : false},\"F292\" : {\"id\" : \"F292\",\"source\" : \"F267\",\"length\" : 0,\"weight\" : 0,\"target\" : \"F263\",\"color\" : \"\",\"invisible\" : false},\"F293\" : {\"id\" : \"F293\",\"source\" : \"F269\",\"length\" : 0,\"weight\" : 0,\"target\" : \"F273\",\"color\" : \"\",\"invisible\" : false},\"F294\" : {\"id\" : \"F294\",\"source\" : \"F269\",\"length\" : 0,\"weight\" : 0,\"target\" : \"F265\",\"color\" : \"\",\"invisible\" : false},\"F295\" : {\"id\" : \"F295\",\"source\" : \"F271\",\"length\" : 0,\"weight\" : 0,\"target\" : \"F275\",\"color\" : \"\",\"invisible\" : false},\"F296\" : {\"id\" : \"F296\",\"source\" : \"F271\",\"length\" : 0,\"weight\" : 0,\"target\" : \"F267\",\"color\" : \"\",\"invisible\" : false},\"F297\" : {\"id\" : \"F297\",\"source\" : \"F273\",\"length\" : 0,\"weight\" : 0,\"target\" : \"F269\",\"color\" : \"\",\"invisible\" : false},\"F298\" : {\"id\" : \"F298\",\"source\" : \"F273\",\"length\" : 0,\"weight\" : 0,\"target\" : \"F277\",\"color\" : \"\",\"invisible\" : false},\"F299\" : {\"id\" : \"F299\",\"source\" : \"F275\",\"length\" : 0,\"weight\" : 0,\"target\" : \"F271\",\"color\" : \"\",\"invisible\" : false},\"F300\" : {\"id\" : \"F300\",\"source\" : \"F275\",\"length\" : 0,\"weight\" : 0,\"target\" : \"F263\",\"color\" : \"\",\"invisible\" : false},\"F301\" : {\"id\" : \"F301\",\"source\" : \"F277\",\"length\" : 0,\"weight\" : 0,\"target\" : \"F273\",\"color\" : \"\",\"invisible\" : false},\"F302\" : {\"id\" : \"F302\",\"source\" : \"F277\",\"length\" : 0,\"weight\" : 0,\"target\" : \"F265\",\"color\" : \"\",\"invisible\" : false}}},\"zoomToFit\" : true,\"texTypesetting\" : false,\"menus\" : {},\"messages\" : {}}}"
     },
     "execution_count": 48,
     "metadata": {
      "application/vnd.francy+json": {}
     },
     "output_type": "execute_result"
    }
   ],
   "source": [
    "# This, not so much\n",
    "DrawOrbitalGraph(ogs[2]);"
   ]
  },
  {
   "cell_type": "code",
   "execution_count": 51,
   "metadata": {},
   "outputs": [
    {
     "data": {
      "text/plain": [
       "Group([ (1,2,3), (1,2), (4,5,6,7,8) ])"
      ]
     },
     "execution_count": 50,
     "metadata": {
      "text/plain": ""
     },
     "output_type": "execute_result"
    },
    {
     "data": {
      "text/plain": [
       "[ <digraph with 8 vertices, 6 edges>, <digraph with 8 vertices, 15 edges>, <digraph with 8 vertices, 15 edges>, <digraph with 8 vertices, 5 edges>, <digraph with 8 vertices, 5 edges>, <digraph with 8 vertices, 5 edges>, <digraph with 8 vertices, 5 edges> ]"
      ]
     },
     "execution_count": 51,
     "metadata": {
      "text/plain": ""
     },
     "output_type": "execute_result"
    }
   ],
   "source": [
    "G := DirectProduct(SymmetricGroup(3), CyclicGroup(IsPermGroup, 5));\n",
    "ogs := OrbitalGraphs(G);"
   ]
  },
  {
   "cell_type": "code",
   "execution_count": 53,
   "metadata": {},
   "outputs": [
    {
     "data": {
      "application/vnd.francy+json": "{\"version\" : \"0.8.10\",\"mime\" : \"application\\/vnd.francy+json\",\"canvas\" : {\"width\" : 800,\"id\" : \"F336\",\"height\" : 600,\"title\" : \"Orbital Graph of\",\"graph\" : {\"type\" : \"directed\",\"id\" : \"F337\",\"simulation\" : true,\"collapsed\" : true,\"drag\" : false,\"showNeighbours\" : false,\"nodes\" : {\"F338\" : {\"x\" : 0,\"y\" : 0,\"type\" : \"circle\",\"id\" : \"F338\",\"size\" : 10,\"title\" : \"\",\"layer\" : 0,\"color\" : \"\",\"parent\" : \"\",\"menus\" : {},\"messages\" : {},\"callbacks\" : {}},\"F339\" : {\"x\" : 0,\"y\" : 0,\"type\" : \"circle\",\"id\" : \"F339\",\"size\" : 10,\"title\" : \"1\",\"layer\" : 0,\"color\" : \"\",\"parent\" : \"\",\"menus\" : {},\"messages\" : {},\"callbacks\" : {}},\"F341\" : {\"x\" : 0,\"y\" : 0,\"type\" : \"circle\",\"id\" : \"F341\",\"size\" : 10,\"title\" : \"2\",\"layer\" : 0,\"color\" : \"\",\"parent\" : \"\",\"menus\" : {},\"messages\" : {},\"callbacks\" : {}},\"F343\" : {\"x\" : 0,\"y\" : 0,\"type\" : \"circle\",\"id\" : \"F343\",\"size\" : 10,\"title\" : \"3\",\"layer\" : 0,\"color\" : \"\",\"parent\" : \"\",\"menus\" : {},\"messages\" : {},\"callbacks\" : {}},\"F345\" : {\"x\" : 0,\"y\" : 0,\"type\" : \"circle\",\"id\" : \"F345\",\"size\" : 10,\"title\" : \"4\",\"layer\" : 0,\"color\" : \"\",\"parent\" : \"\",\"menus\" : {},\"messages\" : {},\"callbacks\" : {}},\"F347\" : {\"x\" : 0,\"y\" : 0,\"type\" : \"circle\",\"id\" : \"F347\",\"size\" : 10,\"title\" : \"5\",\"layer\" : 0,\"color\" : \"\",\"parent\" : \"\",\"menus\" : {},\"messages\" : {},\"callbacks\" : {}},\"F349\" : {\"x\" : 0,\"y\" : 0,\"type\" : \"circle\",\"id\" : \"F349\",\"size\" : 10,\"title\" : \"6\",\"layer\" : 0,\"color\" : \"\",\"parent\" : \"\",\"menus\" : {},\"messages\" : {},\"callbacks\" : {}},\"F351\" : {\"x\" : 0,\"y\" : 0,\"type\" : \"circle\",\"id\" : \"F351\",\"size\" : 10,\"title\" : \"7\",\"layer\" : 0,\"color\" : \"\",\"parent\" : \"\",\"menus\" : {},\"messages\" : {},\"callbacks\" : {}},\"F353\" : {\"x\" : 0,\"y\" : 0,\"type\" : \"circle\",\"id\" : \"F353\",\"size\" : 10,\"title\" : \"8\",\"layer\" : 0,\"color\" : \"\",\"parent\" : \"\",\"menus\" : {},\"messages\" : {},\"callbacks\" : {}}},\"links\" : {\"F340\" : {\"id\" : \"F340\",\"source\" : \"F338\",\"length\" : 0,\"weight\" : 0,\"target\" : \"F339\",\"color\" : \"\",\"invisible\" : true},\"F342\" : {\"id\" : \"F342\",\"source\" : \"F338\",\"length\" : 0,\"weight\" : 0,\"target\" : \"F341\",\"color\" : \"\",\"invisible\" : true},\"F344\" : {\"id\" : \"F344\",\"source\" : \"F338\",\"length\" : 0,\"weight\" : 0,\"target\" : \"F343\",\"color\" : \"\",\"invisible\" : true},\"F346\" : {\"id\" : \"F346\",\"source\" : \"F338\",\"length\" : 0,\"weight\" : 0,\"target\" : \"F345\",\"color\" : \"\",\"invisible\" : true},\"F348\" : {\"id\" : \"F348\",\"source\" : \"F338\",\"length\" : 0,\"weight\" : 0,\"target\" : \"F347\",\"color\" : \"\",\"invisible\" : true},\"F350\" : {\"id\" : \"F350\",\"source\" : \"F338\",\"length\" : 0,\"weight\" : 0,\"target\" : \"F349\",\"color\" : \"\",\"invisible\" : true},\"F352\" : {\"id\" : \"F352\",\"source\" : \"F338\",\"length\" : 0,\"weight\" : 0,\"target\" : \"F351\",\"color\" : \"\",\"invisible\" : true},\"F354\" : {\"id\" : \"F354\",\"source\" : \"F338\",\"length\" : 0,\"weight\" : 0,\"target\" : \"F353\",\"color\" : \"\",\"invisible\" : true},\"F355\" : {\"id\" : \"F355\",\"source\" : \"F339\",\"length\" : 0,\"weight\" : 0,\"target\" : \"F341\",\"color\" : \"\",\"invisible\" : true},\"F356\" : {\"id\" : \"F356\",\"source\" : \"F341\",\"length\" : 0,\"weight\" : 0,\"target\" : \"F343\",\"color\" : \"\",\"invisible\" : true},\"F357\" : {\"id\" : \"F357\",\"source\" : \"F343\",\"length\" : 0,\"weight\" : 0,\"target\" : \"F345\",\"color\" : \"\",\"invisible\" : true},\"F358\" : {\"id\" : \"F358\",\"source\" : \"F345\",\"length\" : 0,\"weight\" : 0,\"target\" : \"F347\",\"color\" : \"\",\"invisible\" : true},\"F359\" : {\"id\" : \"F359\",\"source\" : \"F347\",\"length\" : 0,\"weight\" : 0,\"target\" : \"F349\",\"color\" : \"\",\"invisible\" : true},\"F360\" : {\"id\" : \"F360\",\"source\" : \"F349\",\"length\" : 0,\"weight\" : 0,\"target\" : \"F351\",\"color\" : \"\",\"invisible\" : true},\"F361\" : {\"id\" : \"F361\",\"source\" : \"F351\",\"length\" : 0,\"weight\" : 0,\"target\" : \"F353\",\"color\" : \"\",\"invisible\" : true},\"F362\" : {\"id\" : \"F362\",\"source\" : \"F353\",\"length\" : 0,\"weight\" : 0,\"target\" : \"F339\",\"color\" : \"\",\"invisible\" : true},\"F363\" : {\"id\" : \"F363\",\"source\" : \"F339\",\"length\" : 0,\"weight\" : 0,\"target\" : \"F345\",\"color\" : \"\",\"invisible\" : false},\"F364\" : {\"id\" : \"F364\",\"source\" : \"F339\",\"length\" : 0,\"weight\" : 0,\"target\" : \"F347\",\"color\" : \"\",\"invisible\" : false},\"F365\" : {\"id\" : \"F365\",\"source\" : \"F339\",\"length\" : 0,\"weight\" : 0,\"target\" : \"F349\",\"color\" : \"\",\"invisible\" : false},\"F366\" : {\"id\" : \"F366\",\"source\" : \"F339\",\"length\" : 0,\"weight\" : 0,\"target\" : \"F351\",\"color\" : \"\",\"invisible\" : false},\"F367\" : {\"id\" : \"F367\",\"source\" : \"F339\",\"length\" : 0,\"weight\" : 0,\"target\" : \"F353\",\"color\" : \"\",\"invisible\" : false},\"F368\" : {\"id\" : \"F368\",\"source\" : \"F341\",\"length\" : 0,\"weight\" : 0,\"target\" : \"F345\",\"color\" : \"\",\"invisible\" : false},\"F369\" : {\"id\" : \"F369\",\"source\" : \"F341\",\"length\" : 0,\"weight\" : 0,\"target\" : \"F347\",\"color\" : \"\",\"invisible\" : false},\"F370\" : {\"id\" : \"F370\",\"source\" : \"F341\",\"length\" : 0,\"weight\" : 0,\"target\" : \"F349\",\"color\" : \"\",\"invisible\" : false},\"F371\" : {\"id\" : \"F371\",\"source\" : \"F341\",\"length\" : 0,\"weight\" : 0,\"target\" : \"F351\",\"color\" : \"\",\"invisible\" : false},\"F372\" : {\"id\" : \"F372\",\"source\" : \"F341\",\"length\" : 0,\"weight\" : 0,\"target\" : \"F353\",\"color\" : \"\",\"invisible\" : false},\"F373\" : {\"id\" : \"F373\",\"source\" : \"F343\",\"length\" : 0,\"weight\" : 0,\"target\" : \"F345\",\"color\" : \"\",\"invisible\" : false},\"F374\" : {\"id\" : \"F374\",\"source\" : \"F343\",\"length\" : 0,\"weight\" : 0,\"target\" : \"F347\",\"color\" : \"\",\"invisible\" : false},\"F375\" : {\"id\" : \"F375\",\"source\" : \"F343\",\"length\" : 0,\"weight\" : 0,\"target\" : \"F349\",\"color\" : \"\",\"invisible\" : false},\"F376\" : {\"id\" : \"F376\",\"source\" : \"F343\",\"length\" : 0,\"weight\" : 0,\"target\" : \"F351\",\"color\" : \"\",\"invisible\" : false},\"F377\" : {\"id\" : \"F377\",\"source\" : \"F343\",\"length\" : 0,\"weight\" : 0,\"target\" : \"F353\",\"color\" : \"\",\"invisible\" : false}}},\"zoomToFit\" : true,\"texTypesetting\" : false,\"menus\" : {},\"messages\" : {}}}"
     },
     "execution_count": 53,
     "metadata": {
      "application/vnd.francy+json": {}
     },
     "output_type": "execute_result"
    }
   ],
   "source": [
    "DrawOrbitalGraph(ogs[2]);"
   ]
  },
  {
   "cell_type": "code",
   "execution_count": 59,
   "metadata": {},
   "outputs": [
    {
     "data": {
      "image/svg+xml": [
       "<?xml version=\"1.0\" encoding=\"UTF-8\" standalone=\"no\"?>\n",
       "<!DOCTYPE svg PUBLIC \"-//W3C//DTD SVG 1.1//EN\"\n",
       " \"http://www.w3.org/Graphics/SVG/1.1/DTD/svg11.dtd\">\n",
       "<!-- Generated by graphviz version 2.38.0 (20140413.2041)\n",
       " -->\n",
       "<!-- Title: hgn Pages: 1 -->\n",
       "<svg width=\"260pt\" height=\"116pt\"\n",
       " viewBox=\"0.00 0.00 260.00 116.00\" xmlns=\"http://www.w3.org/2000/svg\" xmlns:xlink=\"http://www.w3.org/1999/xlink\">\n",
       "<g id=\"graph0\" class=\"graph\" transform=\"scale(1 1) rotate(0) translate(4 112)\">\n",
       "<title>hgn</title>\n",
       "<polygon fill=\"white\" stroke=\"none\" points=\"-4,4 -4,-112 256,-112 256,4 -4,4\"/>\n",
       "<!-- 1 -->\n",
       "<g id=\"node1\" class=\"node\"><title>1</title>\n",
       "<ellipse fill=\"none\" stroke=\"black\" cx=\"72\" cy=\"-90\" rx=\"18\" ry=\"18\"/>\n",
       "<text text-anchor=\"middle\" x=\"72\" y=\"-86.3\" font-family=\"Times,serif\" font-size=\"14.00\">1</text>\n",
       "</g>\n",
       "<!-- 4 -->\n",
       "<g id=\"node4\" class=\"node\"><title>4</title>\n",
       "<ellipse fill=\"none\" stroke=\"black\" cx=\"234\" cy=\"-18\" rx=\"18\" ry=\"18\"/>\n",
       "<text text-anchor=\"middle\" x=\"234\" y=\"-14.3\" font-family=\"Times,serif\" font-size=\"14.00\">4</text>\n",
       "</g>\n",
       "<!-- 1&#45;&gt;4 -->\n",
       "<g id=\"edge1\" class=\"edge\"><title>1&#45;&gt;4</title>\n",
       "<path fill=\"none\" stroke=\"black\" d=\"M86.4906,-78.9842C90.441,-76.5039 94.7939,-73.9896 99,-72 144.738,-50.365 161.262,-57.635 207,-36 208.183,-35.4404 209.378,-34.8393 210.572,-34.2092\"/>\n",
       "<polygon fill=\"black\" stroke=\"black\" points=\"212.621,-37.0661 219.509,-29.0158 209.105,-31.0136 212.621,-37.0661\"/>\n",
       "</g>\n",
       "<!-- 5 -->\n",
       "<g id=\"node5\" class=\"node\"><title>5</title>\n",
       "<ellipse fill=\"none\" stroke=\"black\" cx=\"18\" cy=\"-18\" rx=\"18\" ry=\"18\"/>\n",
       "<text text-anchor=\"middle\" x=\"18\" y=\"-14.3\" font-family=\"Times,serif\" font-size=\"14.00\">5</text>\n",
       "</g>\n",
       "<!-- 1&#45;&gt;5 -->\n",
       "<g id=\"edge2\" class=\"edge\"><title>1&#45;&gt;5</title>\n",
       "<path fill=\"none\" stroke=\"black\" d=\"M61.3313,-75.1703C53.7874,-65.391 43.5188,-52.0799 34.8713,-40.8702\"/>\n",
       "<polygon fill=\"black\" stroke=\"black\" points=\"37.5258,-38.581 28.6465,-32.801 31.9833,-42.8567 37.5258,-38.581\"/>\n",
       "</g>\n",
       "<!-- 6 -->\n",
       "<g id=\"node6\" class=\"node\"><title>6</title>\n",
       "<ellipse fill=\"none\" stroke=\"black\" cx=\"72\" cy=\"-18\" rx=\"18\" ry=\"18\"/>\n",
       "<text text-anchor=\"middle\" x=\"72\" y=\"-14.3\" font-family=\"Times,serif\" font-size=\"14.00\">6</text>\n",
       "</g>\n",
       "<!-- 1&#45;&gt;6 -->\n",
       "<g id=\"edge3\" class=\"edge\"><title>1&#45;&gt;6</title>\n",
       "<path fill=\"none\" stroke=\"black\" d=\"M72,-71.6966C72,-63.9827 72,-54.7125 72,-46.1124\"/>\n",
       "<polygon fill=\"black\" stroke=\"black\" points=\"75.5001,-46.1043 72,-36.1043 68.5001,-46.1044 75.5001,-46.1043\"/>\n",
       "</g>\n",
       "<!-- 7 -->\n",
       "<g id=\"node7\" class=\"node\"><title>7</title>\n",
       "<ellipse fill=\"none\" stroke=\"black\" cx=\"126\" cy=\"-18\" rx=\"18\" ry=\"18\"/>\n",
       "<text text-anchor=\"middle\" x=\"126\" y=\"-14.3\" font-family=\"Times,serif\" font-size=\"14.00\">7</text>\n",
       "</g>\n",
       "<!-- 1&#45;&gt;7 -->\n",
       "<g id=\"edge4\" class=\"edge\"><title>1&#45;&gt;7</title>\n",
       "<path fill=\"none\" stroke=\"black\" d=\"M82.6687,-75.1703C90.2126,-65.391 100.481,-52.0799 109.129,-40.8702\"/>\n",
       "<polygon fill=\"black\" stroke=\"black\" points=\"112.017,-42.8567 115.354,-32.801 106.474,-38.581 112.017,-42.8567\"/>\n",
       "</g>\n",
       "<!-- 8 -->\n",
       "<g id=\"node8\" class=\"node\"><title>8</title>\n",
       "<ellipse fill=\"none\" stroke=\"black\" cx=\"180\" cy=\"-18\" rx=\"18\" ry=\"18\"/>\n",
       "<text text-anchor=\"middle\" x=\"180\" y=\"-14.3\" font-family=\"Times,serif\" font-size=\"14.00\">8</text>\n",
       "</g>\n",
       "<!-- 1&#45;&gt;8 -->\n",
       "<g id=\"edge5\" class=\"edge\"><title>1&#45;&gt;8</title>\n",
       "<path fill=\"none\" stroke=\"black\" d=\"M87.0169,-79.2668C105.071,-67.5648 135.575,-47.7941 156.696,-34.1041\"/>\n",
       "<polygon fill=\"black\" stroke=\"black\" points=\"158.623,-37.0266 165.111,-28.6505 154.815,-31.1525 158.623,-37.0266\"/>\n",
       "</g>\n",
       "<!-- 2 -->\n",
       "<g id=\"node2\" class=\"node\"><title>2</title>\n",
       "<ellipse fill=\"none\" stroke=\"black\" cx=\"126\" cy=\"-90\" rx=\"18\" ry=\"18\"/>\n",
       "<text text-anchor=\"middle\" x=\"126\" y=\"-86.3\" font-family=\"Times,serif\" font-size=\"14.00\">2</text>\n",
       "</g>\n",
       "<!-- 2&#45;&gt;4 -->\n",
       "<g id=\"edge6\" class=\"edge\"><title>2&#45;&gt;4</title>\n",
       "<path fill=\"none\" stroke=\"black\" d=\"M141.017,-79.2668C159.071,-67.5648 189.575,-47.7941 210.696,-34.1041\"/>\n",
       "<polygon fill=\"black\" stroke=\"black\" points=\"212.623,-37.0266 219.111,-28.6505 208.815,-31.1525 212.623,-37.0266\"/>\n",
       "</g>\n",
       "<!-- 2&#45;&gt;5 -->\n",
       "<g id=\"edge7\" class=\"edge\"><title>2&#45;&gt;5</title>\n",
       "<path fill=\"none\" stroke=\"black\" d=\"M110.983,-79.2668C92.9286,-67.5648 62.4252,-47.7941 41.3035,-34.1041\"/>\n",
       "<polygon fill=\"black\" stroke=\"black\" points=\"43.1846,-31.1525 32.8894,-28.6505 39.3773,-37.0266 43.1846,-31.1525\"/>\n",
       "</g>\n",
       "<!-- 2&#45;&gt;6 -->\n",
       "<g id=\"edge8\" class=\"edge\"><title>2&#45;&gt;6</title>\n",
       "<path fill=\"none\" stroke=\"black\" d=\"M115.331,-75.1703C107.787,-65.391 97.5188,-52.0799 88.8713,-40.8702\"/>\n",
       "<polygon fill=\"black\" stroke=\"black\" points=\"91.5258,-38.581 82.6465,-32.801 85.9833,-42.8567 91.5258,-38.581\"/>\n",
       "</g>\n",
       "<!-- 2&#45;&gt;7 -->\n",
       "<g id=\"edge9\" class=\"edge\"><title>2&#45;&gt;7</title>\n",
       "<path fill=\"none\" stroke=\"black\" d=\"M126,-71.6966C126,-63.9827 126,-54.7125 126,-46.1124\"/>\n",
       "<polygon fill=\"black\" stroke=\"black\" points=\"129.5,-46.1043 126,-36.1043 122.5,-46.1044 129.5,-46.1043\"/>\n",
       "</g>\n",
       "<!-- 2&#45;&gt;8 -->\n",
       "<g id=\"edge10\" class=\"edge\"><title>2&#45;&gt;8</title>\n",
       "<path fill=\"none\" stroke=\"black\" d=\"M136.669,-75.1703C144.213,-65.391 154.481,-52.0799 163.129,-40.8702\"/>\n",
       "<polygon fill=\"black\" stroke=\"black\" points=\"166.017,-42.8567 169.354,-32.801 160.474,-38.581 166.017,-42.8567\"/>\n",
       "</g>\n",
       "<!-- 3 -->\n",
       "<g id=\"node3\" class=\"node\"><title>3</title>\n",
       "<ellipse fill=\"none\" stroke=\"black\" cx=\"180\" cy=\"-90\" rx=\"18\" ry=\"18\"/>\n",
       "<text text-anchor=\"middle\" x=\"180\" y=\"-86.3\" font-family=\"Times,serif\" font-size=\"14.00\">3</text>\n",
       "</g>\n",
       "<!-- 3&#45;&gt;4 -->\n",
       "<g id=\"edge11\" class=\"edge\"><title>3&#45;&gt;4</title>\n",
       "<path fill=\"none\" stroke=\"black\" d=\"M190.669,-75.1703C198.213,-65.391 208.481,-52.0799 217.129,-40.8702\"/>\n",
       "<polygon fill=\"black\" stroke=\"black\" points=\"220.017,-42.8567 223.354,-32.801 214.474,-38.581 220.017,-42.8567\"/>\n",
       "</g>\n",
       "<!-- 3&#45;&gt;5 -->\n",
       "<g id=\"edge12\" class=\"edge\"><title>3&#45;&gt;5</title>\n",
       "<path fill=\"none\" stroke=\"black\" d=\"M165.509,-78.9842C161.559,-76.5039 157.206,-73.9896 153,-72 107.262,-50.365 90.7376,-57.635 45,-36 43.817,-35.4404 42.6224,-34.8393 41.4285,-34.2092\"/>\n",
       "<polygon fill=\"black\" stroke=\"black\" points=\"42.8954,-31.0136 32.4906,-29.0158 39.3785,-37.0661 42.8954,-31.0136\"/>\n",
       "</g>\n",
       "<!-- 3&#45;&gt;6 -->\n",
       "<g id=\"edge13\" class=\"edge\"><title>3&#45;&gt;6</title>\n",
       "<path fill=\"none\" stroke=\"black\" d=\"M164.983,-79.2668C146.929,-67.5648 116.425,-47.7941 95.3035,-34.1041\"/>\n",
       "<polygon fill=\"black\" stroke=\"black\" points=\"97.1846,-31.1525 86.8894,-28.6505 93.3773,-37.0266 97.1846,-31.1525\"/>\n",
       "</g>\n",
       "<!-- 3&#45;&gt;7 -->\n",
       "<g id=\"edge14\" class=\"edge\"><title>3&#45;&gt;7</title>\n",
       "<path fill=\"none\" stroke=\"black\" d=\"M169.331,-75.1703C161.787,-65.391 151.519,-52.0799 142.871,-40.8702\"/>\n",
       "<polygon fill=\"black\" stroke=\"black\" points=\"145.526,-38.581 136.646,-32.801 139.983,-42.8567 145.526,-38.581\"/>\n",
       "</g>\n",
       "<!-- 3&#45;&gt;8 -->\n",
       "<g id=\"edge15\" class=\"edge\"><title>3&#45;&gt;8</title>\n",
       "<path fill=\"none\" stroke=\"black\" d=\"M180,-71.6966C180,-63.9827 180,-54.7125 180,-46.1124\"/>\n",
       "<polygon fill=\"black\" stroke=\"black\" points=\"183.5,-46.1043 180,-36.1043 176.5,-46.1044 183.5,-46.1043\"/>\n",
       "</g>\n",
       "</g>\n",
       "</svg>\n"
      ]
     },
     "execution_count": 57,
     "metadata": {
      "image/svg+xml": {
       "height": 500,
       "width": 500
      }
     },
     "output_type": "execute_result"
    },
    {
     "data": {
      "image/svg+xml": [
       "<?xml version=\"1.0\" encoding=\"UTF-8\" standalone=\"no\"?>\n",
       "<!DOCTYPE svg PUBLIC \"-//W3C//DTD SVG 1.1//EN\"\n",
       " \"http://www.w3.org/Graphics/SVG/1.1/DTD/svg11.dtd\">\n",
       "<!-- Generated by graphviz version 2.38.0 (20140413.2041)\n",
       " -->\n",
       "<!-- Title: hgn Pages: 1 -->\n",
       "<svg width=\"206pt\" height=\"332pt\"\n",
       " viewBox=\"0.00 0.00 206.00 332.00\" xmlns=\"http://www.w3.org/2000/svg\" xmlns:xlink=\"http://www.w3.org/1999/xlink\">\n",
       "<g id=\"graph0\" class=\"graph\" transform=\"scale(1 1) rotate(0) translate(4 328)\">\n",
       "<title>hgn</title>\n",
       "<polygon fill=\"white\" stroke=\"none\" points=\"-4,4 -4,-328 202,-328 202,4 -4,4\"/>\n",
       "<!-- 1 -->\n",
       "<g id=\"node1\" class=\"node\"><title>1</title>\n",
       "<ellipse fill=\"none\" stroke=\"black\" cx=\"18\" cy=\"-306\" rx=\"18\" ry=\"18\"/>\n",
       "<text text-anchor=\"middle\" x=\"18\" y=\"-302.3\" font-family=\"Times,serif\" font-size=\"14.00\">1</text>\n",
       "</g>\n",
       "<!-- 2 -->\n",
       "<g id=\"node2\" class=\"node\"><title>2</title>\n",
       "<ellipse fill=\"none\" stroke=\"black\" cx=\"72\" cy=\"-306\" rx=\"18\" ry=\"18\"/>\n",
       "<text text-anchor=\"middle\" x=\"72\" y=\"-302.3\" font-family=\"Times,serif\" font-size=\"14.00\">2</text>\n",
       "</g>\n",
       "<!-- 3 -->\n",
       "<g id=\"node3\" class=\"node\"><title>3</title>\n",
       "<ellipse fill=\"none\" stroke=\"black\" cx=\"126\" cy=\"-306\" rx=\"18\" ry=\"18\"/>\n",
       "<text text-anchor=\"middle\" x=\"126\" y=\"-302.3\" font-family=\"Times,serif\" font-size=\"14.00\">3</text>\n",
       "</g>\n",
       "<!-- 4 -->\n",
       "<g id=\"node4\" class=\"node\"><title>4</title>\n",
       "<ellipse fill=\"none\" stroke=\"black\" cx=\"180\" cy=\"-306\" rx=\"18\" ry=\"18\"/>\n",
       "<text text-anchor=\"middle\" x=\"180\" y=\"-302.3\" font-family=\"Times,serif\" font-size=\"14.00\">4</text>\n",
       "</g>\n",
       "<!-- 6 -->\n",
       "<g id=\"node6\" class=\"node\"><title>6</title>\n",
       "<ellipse fill=\"none\" stroke=\"black\" cx=\"157\" cy=\"-234\" rx=\"18\" ry=\"18\"/>\n",
       "<text text-anchor=\"middle\" x=\"157\" y=\"-230.3\" font-family=\"Times,serif\" font-size=\"14.00\">6</text>\n",
       "</g>\n",
       "<!-- 4&#45;&gt;6 -->\n",
       "<g id=\"edge1\" class=\"edge\"><title>4&#45;&gt;6</title>\n",
       "<path fill=\"none\" stroke=\"black\" d=\"M174.666,-288.765C171.976,-280.578 168.647,-270.448 165.607,-261.195\"/>\n",
       "<polygon fill=\"black\" stroke=\"black\" points=\"168.912,-260.041 162.465,-251.633 162.262,-262.226 168.912,-260.041\"/>\n",
       "</g>\n",
       "<!-- 5 -->\n",
       "<g id=\"node5\" class=\"node\"><title>5</title>\n",
       "<ellipse fill=\"none\" stroke=\"black\" cx=\"157\" cy=\"-90\" rx=\"18\" ry=\"18\"/>\n",
       "<text text-anchor=\"middle\" x=\"157\" y=\"-86.3\" font-family=\"Times,serif\" font-size=\"14.00\">5</text>\n",
       "</g>\n",
       "<!-- 7 -->\n",
       "<g id=\"node7\" class=\"node\"><title>7</title>\n",
       "<ellipse fill=\"none\" stroke=\"black\" cx=\"180\" cy=\"-18\" rx=\"18\" ry=\"18\"/>\n",
       "<text text-anchor=\"middle\" x=\"180\" y=\"-14.3\" font-family=\"Times,serif\" font-size=\"14.00\">7</text>\n",
       "</g>\n",
       "<!-- 5&#45;&gt;7 -->\n",
       "<g id=\"edge2\" class=\"edge\"><title>5&#45;&gt;7</title>\n",
       "<path fill=\"none\" stroke=\"black\" d=\"M162.334,-72.7646C165.024,-64.5785 168.353,-54.4479 171.393,-45.1953\"/>\n",
       "<polygon fill=\"black\" stroke=\"black\" points=\"174.738,-46.2263 174.535,-35.6334 168.088,-44.0412 174.738,-46.2263\"/>\n",
       "</g>\n",
       "<!-- 8 -->\n",
       "<g id=\"node8\" class=\"node\"><title>8</title>\n",
       "<ellipse fill=\"none\" stroke=\"black\" cx=\"157\" cy=\"-162\" rx=\"18\" ry=\"18\"/>\n",
       "<text text-anchor=\"middle\" x=\"157\" y=\"-158.3\" font-family=\"Times,serif\" font-size=\"14.00\">8</text>\n",
       "</g>\n",
       "<!-- 6&#45;&gt;8 -->\n",
       "<g id=\"edge3\" class=\"edge\"><title>6&#45;&gt;8</title>\n",
       "<path fill=\"none\" stroke=\"black\" d=\"M157,-215.697C157,-207.983 157,-198.712 157,-190.112\"/>\n",
       "<polygon fill=\"black\" stroke=\"black\" points=\"160.5,-190.104 157,-180.104 153.5,-190.104 160.5,-190.104\"/>\n",
       "</g>\n",
       "<!-- 7&#45;&gt;4 -->\n",
       "<g id=\"edge4\" class=\"edge\"><title>7&#45;&gt;4</title>\n",
       "<path fill=\"none\" stroke=\"black\" d=\"M181.625,-36.1672C182.524,-46.5327 183.548,-60.0127 184,-72 187.012,-151.943 187.012,-172.057 184,-252 183.686,-260.335 183.095,-269.392 182.462,-277.621\"/>\n",
       "<polygon fill=\"black\" stroke=\"black\" points=\"178.953,-277.58 181.625,-287.833 185.93,-278.152 178.953,-277.58\"/>\n",
       "</g>\n",
       "<!-- 8&#45;&gt;5 -->\n",
       "<g id=\"edge5\" class=\"edge\"><title>8&#45;&gt;5</title>\n",
       "<path fill=\"none\" stroke=\"black\" d=\"M157,-143.697C157,-135.983 157,-126.712 157,-118.112\"/>\n",
       "<polygon fill=\"black\" stroke=\"black\" points=\"160.5,-118.104 157,-108.104 153.5,-118.104 160.5,-118.104\"/>\n",
       "</g>\n",
       "</g>\n",
       "</svg>\n"
      ]
     },
     "execution_count": 58,
     "metadata": {
      "image/svg+xml": {
       "height": 500,
       "width": 500
      }
     },
     "output_type": "execute_result"
    },
    {
     "data": {
      "image/svg+xml": [
       "<?xml version=\"1.0\" encoding=\"UTF-8\" standalone=\"no\"?>\n",
       "<!DOCTYPE svg PUBLIC \"-//W3C//DTD SVG 1.1//EN\"\n",
       " \"http://www.w3.org/Graphics/SVG/1.1/DTD/svg11.dtd\">\n",
       "<!-- Generated by graphviz version 2.38.0 (20140413.2041)\n",
       " -->\n",
       "<!-- Title: hgn Pages: 1 -->\n",
       "<svg width=\"206pt\" height=\"332pt\"\n",
       " viewBox=\"0.00 0.00 206.00 332.00\" xmlns=\"http://www.w3.org/2000/svg\" xmlns:xlink=\"http://www.w3.org/1999/xlink\">\n",
       "<g id=\"graph0\" class=\"graph\" transform=\"scale(1 1) rotate(0) translate(4 328)\">\n",
       "<title>hgn</title>\n",
       "<polygon fill=\"white\" stroke=\"none\" points=\"-4,4 -4,-328 202,-328 202,4 -4,4\"/>\n",
       "<!-- 1 -->\n",
       "<g id=\"node1\" class=\"node\"><title>1</title>\n",
       "<ellipse fill=\"none\" stroke=\"black\" cx=\"18\" cy=\"-306\" rx=\"18\" ry=\"18\"/>\n",
       "<text text-anchor=\"middle\" x=\"18\" y=\"-302.3\" font-family=\"Times,serif\" font-size=\"14.00\">1</text>\n",
       "</g>\n",
       "<!-- 2 -->\n",
       "<g id=\"node2\" class=\"node\"><title>2</title>\n",
       "<ellipse fill=\"none\" stroke=\"black\" cx=\"72\" cy=\"-306\" rx=\"18\" ry=\"18\"/>\n",
       "<text text-anchor=\"middle\" x=\"72\" y=\"-302.3\" font-family=\"Times,serif\" font-size=\"14.00\">2</text>\n",
       "</g>\n",
       "<!-- 3 -->\n",
       "<g id=\"node3\" class=\"node\"><title>3</title>\n",
       "<ellipse fill=\"none\" stroke=\"black\" cx=\"126\" cy=\"-306\" rx=\"18\" ry=\"18\"/>\n",
       "<text text-anchor=\"middle\" x=\"126\" y=\"-302.3\" font-family=\"Times,serif\" font-size=\"14.00\">3</text>\n",
       "</g>\n",
       "<!-- 4 -->\n",
       "<g id=\"node4\" class=\"node\"><title>4</title>\n",
       "<ellipse fill=\"none\" stroke=\"black\" cx=\"180\" cy=\"-306\" rx=\"18\" ry=\"18\"/>\n",
       "<text text-anchor=\"middle\" x=\"180\" y=\"-302.3\" font-family=\"Times,serif\" font-size=\"14.00\">4</text>\n",
       "</g>\n",
       "<!-- 8 -->\n",
       "<g id=\"node8\" class=\"node\"><title>8</title>\n",
       "<ellipse fill=\"none\" stroke=\"black\" cx=\"157\" cy=\"-234\" rx=\"18\" ry=\"18\"/>\n",
       "<text text-anchor=\"middle\" x=\"157\" y=\"-230.3\" font-family=\"Times,serif\" font-size=\"14.00\">8</text>\n",
       "</g>\n",
       "<!-- 4&#45;&gt;8 -->\n",
       "<g id=\"edge1\" class=\"edge\"><title>4&#45;&gt;8</title>\n",
       "<path fill=\"none\" stroke=\"black\" d=\"M174.666,-288.765C171.976,-280.578 168.647,-270.448 165.607,-261.195\"/>\n",
       "<polygon fill=\"black\" stroke=\"black\" points=\"168.912,-260.041 162.465,-251.633 162.262,-262.226 168.912,-260.041\"/>\n",
       "</g>\n",
       "<!-- 5 -->\n",
       "<g id=\"node5\" class=\"node\"><title>5</title>\n",
       "<ellipse fill=\"none\" stroke=\"black\" cx=\"180\" cy=\"-18\" rx=\"18\" ry=\"18\"/>\n",
       "<text text-anchor=\"middle\" x=\"180\" y=\"-14.3\" font-family=\"Times,serif\" font-size=\"14.00\">5</text>\n",
       "</g>\n",
       "<!-- 5&#45;&gt;4 -->\n",
       "<g id=\"edge2\" class=\"edge\"><title>5&#45;&gt;4</title>\n",
       "<path fill=\"none\" stroke=\"black\" d=\"M181.625,-36.1672C182.524,-46.5327 183.548,-60.0127 184,-72 187.012,-151.943 187.012,-172.057 184,-252 183.686,-260.335 183.095,-269.392 182.462,-277.621\"/>\n",
       "<polygon fill=\"black\" stroke=\"black\" points=\"178.953,-277.58 181.625,-287.833 185.93,-278.152 178.953,-277.58\"/>\n",
       "</g>\n",
       "<!-- 6 -->\n",
       "<g id=\"node6\" class=\"node\"><title>6</title>\n",
       "<ellipse fill=\"none\" stroke=\"black\" cx=\"157\" cy=\"-90\" rx=\"18\" ry=\"18\"/>\n",
       "<text text-anchor=\"middle\" x=\"157\" y=\"-86.3\" font-family=\"Times,serif\" font-size=\"14.00\">6</text>\n",
       "</g>\n",
       "<!-- 6&#45;&gt;5 -->\n",
       "<g id=\"edge3\" class=\"edge\"><title>6&#45;&gt;5</title>\n",
       "<path fill=\"none\" stroke=\"black\" d=\"M162.334,-72.7646C165.024,-64.5785 168.353,-54.4479 171.393,-45.1953\"/>\n",
       "<polygon fill=\"black\" stroke=\"black\" points=\"174.738,-46.2263 174.535,-35.6334 168.088,-44.0412 174.738,-46.2263\"/>\n",
       "</g>\n",
       "<!-- 7 -->\n",
       "<g id=\"node7\" class=\"node\"><title>7</title>\n",
       "<ellipse fill=\"none\" stroke=\"black\" cx=\"157\" cy=\"-162\" rx=\"18\" ry=\"18\"/>\n",
       "<text text-anchor=\"middle\" x=\"157\" y=\"-158.3\" font-family=\"Times,serif\" font-size=\"14.00\">7</text>\n",
       "</g>\n",
       "<!-- 7&#45;&gt;6 -->\n",
       "<g id=\"edge4\" class=\"edge\"><title>7&#45;&gt;6</title>\n",
       "<path fill=\"none\" stroke=\"black\" d=\"M157,-143.697C157,-135.983 157,-126.712 157,-118.112\"/>\n",
       "<polygon fill=\"black\" stroke=\"black\" points=\"160.5,-118.104 157,-108.104 153.5,-118.104 160.5,-118.104\"/>\n",
       "</g>\n",
       "<!-- 8&#45;&gt;7 -->\n",
       "<g id=\"edge5\" class=\"edge\"><title>8&#45;&gt;7</title>\n",
       "<path fill=\"none\" stroke=\"black\" d=\"M157,-215.697C157,-207.983 157,-198.712 157,-190.112\"/>\n",
       "<polygon fill=\"black\" stroke=\"black\" points=\"160.5,-190.104 157,-180.104 153.5,-190.104 160.5,-190.104\"/>\n",
       "</g>\n",
       "</g>\n",
       "</svg>\n"
      ]
     },
     "execution_count": 59,
     "metadata": {
      "image/svg+xml": {
       "height": 500,
       "width": 500
      }
     },
     "output_type": "execute_result"
    }
   ],
   "source": [
    "# Maybe slightly more useful?\n",
    "JupyterSplashDot(DotDigraph(ogs[2]));\n",
    "JupyterSplashDot(DotDigraph(ogs[5]));\n",
    "JupyterSplashDot(DotDigraph(ogs[7]));\n",
    "\n"
   ]
  },
  {
   "cell_type": "code",
   "execution_count": null,
   "metadata": {},
   "outputs": [],
   "source": []
  }
 ],
 "metadata": {
  "kernelspec": {
   "display_name": "GAP 4",
   "language": "gap",
   "name": "gap-4"
  },
  "language_info": {
   "codemirror_mode": "gap",
   "file_extension": ".g",
   "mimetype": "text/x-gap",
   "name": "GAP 4",
   "nbconvert_exporter": "",
   "pygments_lexer": "gap",
   "version": "4.dev"
  }
 },
 "nbformat": 4,
 "nbformat_minor": 2
}
